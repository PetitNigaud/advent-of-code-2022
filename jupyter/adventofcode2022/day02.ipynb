{
 "cells": [
  {
   "cell_type": "markdown",
   "id": "9672b17f-7a5e-47b5-ab50-6eb82e70f884",
   "metadata": {},
   "source": [
    "# Day 02\n",
    "\n",
    "https://adventofcode.com/2022/day/2\n",
    "\n",
    "## Part 1"
   ]
  },
  {
   "cell_type": "code",
   "execution_count": 1,
   "id": "254ce369-6aeb-4d63-911e-b2cfb6967475",
   "metadata": {},
   "outputs": [
    {
     "data": {
      "text/plain": [
       "'A Y\\nB X\\nC Z\\n'"
      ]
     },
     "execution_count": 1,
     "metadata": {},
     "output_type": "execute_result"
    }
   ],
   "source": [
    "test_result = 15\n",
    "test_data = \"\"\"\\\n",
    "A Y\n",
    "B X\n",
    "C Z\n",
    "\"\"\"\n",
    "test_data"
   ]
  },
  {
   "cell_type": "code",
   "execution_count": 2,
   "id": "6eaa127c-cc2f-4109-ab8d-e3429d6626d9",
   "metadata": {},
   "outputs": [
    {
     "data": {
      "text/plain": [
       "['A Y', 'B X', 'C Z']"
      ]
     },
     "execution_count": 2,
     "metadata": {},
     "output_type": "execute_result"
    }
   ],
   "source": [
    "test_data.splitlines()"
   ]
  },
  {
   "cell_type": "code",
   "execution_count": 3,
   "id": "3c343a8b-e8e9-40cc-bc49-a89547da72ea",
   "metadata": {},
   "outputs": [
    {
     "name": "stdout",
     "output_type": "stream",
     "text": [
      "A 1\n",
      "X 1\n",
      "B 2\n",
      "Y 2\n",
      "C 3\n",
      "Z 3\n"
     ]
    }
   ],
   "source": [
    "lookup = {\"A\": 1, \"X\": 1, # Rock\n",
    "          \"B\": 2, \"Y\": 2, # Paper\n",
    "          \"C\": 3, \"Z\": 3  # Scissors\n",
    "         }\n",
    "def decrypt(letter: str):\n",
    "    \"\"\"Convert letter representing Rock/Paper/Scissors into index (but also score)\"\"\"\n",
    "    letter = letter.upper()\n",
    "    return lookup[letter]\n",
    "\n",
    "for letter in lookup.keys():\n",
    "    print(letter, decrypt(letter))"
   ]
  },
  {
   "cell_type": "code",
   "execution_count": 4,
   "id": "750dab8e-de13-4d95-89a4-d6ffedffb93c",
   "metadata": {},
   "outputs": [
    {
     "name": "stdout",
     "output_type": "stream",
     "text": [
      "test passed\n"
     ]
    }
   ],
   "source": [
    "def match_score(line: str):\n",
    "    idx1, idx2 = [decrypt(s) for s in line.split(\" \")]    \n",
    "    diff = idx2 - idx1\n",
    "    diff = diff % 3\n",
    "        \n",
    "    if diff == 0:   # draw\n",
    "        score = 3\n",
    "    elif diff == 1:  # won\n",
    "        score = 6\n",
    "    elif diff == 2:\n",
    "        score = 0   # lost\n",
    "    else:\n",
    "        raise ValueError(f\"Unexpected Error for diff: {diff}\")\n",
    "        \n",
    "    # add points for selected choice\n",
    "    score += idx2\n",
    "    #print(line, diff, score)\n",
    "    return score\n",
    "\n",
    "scores = [match_score(line) for line in test_data.splitlines()]\n",
    "assert scores == [8, 1, 6]\n",
    "print(\"test passed\")\n",
    "\n",
    "for a in \"ABC\":\n",
    "    for b in \"ABC\":\n",
    "        line = f\"{a} {b}\"\n",
    "        match_score(line)"
   ]
  },
  {
   "cell_type": "code",
   "execution_count": 5,
   "id": "1532bf8e-0734-48e2-9c1e-d18e88d91a70",
   "metadata": {},
   "outputs": [
    {
     "name": "stdout",
     "output_type": "stream",
     "text": [
      "test passed\n"
     ]
    }
   ],
   "source": [
    "def solution1(data):\n",
    "    scores = [match_score(line) for line in data.splitlines()]\n",
    "    #print(scores)\n",
    "    return sum(scores)\n",
    "\n",
    "assert solution1(test_data) == test_result\n",
    "print(\"test passed\")"
   ]
  },
  {
   "cell_type": "code",
   "execution_count": 6,
   "id": "f641437e-350d-4f31-897b-2a4a66802749",
   "metadata": {},
   "outputs": [
    {
     "name": "stdout",
     "output_type": "stream",
     "text": [
      "test passed\n"
     ]
    }
   ],
   "source": [
    "with open(\"day02.txt\") as f:\n",
    "    inp_data = f.read()\n",
    "assert solution1(inp_data) == 12855\n",
    "print(\"test passed\")"
   ]
  },
  {
   "cell_type": "markdown",
   "id": "ca740981-8b91-47d7-a039-6aca70963b56",
   "metadata": {},
   "source": [
    "## Part 2"
   ]
  },
  {
   "cell_type": "code",
   "execution_count": 7,
   "id": "0795466b-331c-496d-ac98-5d2218e8ebbc",
   "metadata": {},
   "outputs": [],
   "source": [
    "test_result2 = 12"
   ]
  },
  {
   "cell_type": "code",
   "execution_count": 8,
   "id": "7e7c4c3e-cace-41d8-bb49-c49602d9a2fe",
   "metadata": {},
   "outputs": [
    {
     "name": "stdout",
     "output_type": "stream",
     "text": [
      "[4, 1, 7]\n",
      "test passed\n"
     ]
    }
   ],
   "source": [
    "match_instr = {\"X\": -1,  # lose\n",
    "               \"Y\": 0,   # draw\n",
    "               \"Z\": 1    # win\n",
    "              }\n",
    "lookup2 = {1: \"X\", 2: \"Y\", 3: \"Z\"}\n",
    "\n",
    "def calcScoresPart2(data):\n",
    "    scores = []\n",
    "    for line in data.splitlines():\n",
    "        a, b = line.split(\" \")\n",
    "        idx1 = [\"A\", \"B\", \"C\"].index(a)\n",
    "        diff = match_instr[b]\n",
    "        idx2 = (diff + idx1) % 3\n",
    "        \n",
    "        score = (diff + 1) * 3 + idx2 + 1\n",
    "        scores.append(score)\n",
    "    return scores\n",
    "\n",
    "scores = calcScoresPart2(test_data)\n",
    "print(scores)\n",
    "assert scores == [4, 1, 7]\n",
    "print(\"test passed\")"
   ]
  },
  {
   "cell_type": "code",
   "execution_count": 9,
   "id": "a618aab6-605c-4d9d-81d6-cd90a8c8cf41",
   "metadata": {},
   "outputs": [
    {
     "name": "stdout",
     "output_type": "stream",
     "text": [
      "test passed\n"
     ]
    }
   ],
   "source": [
    "def solution2(data):        \n",
    "    scores = calcScoresPart2(data)\n",
    "    return sum(scores)\n",
    "\n",
    "\n",
    "assert solution2(test_data) == 12\n",
    "print(\"test passed\")"
   ]
  },
  {
   "cell_type": "code",
   "execution_count": 10,
   "id": "f9b7d4c7-f7dd-4b93-8bc5-f33c1a5bcabe",
   "metadata": {},
   "outputs": [
    {
     "name": "stdout",
     "output_type": "stream",
     "text": [
      "test passed\n"
     ]
    }
   ],
   "source": [
    "with open(\"day02.txt\") as f:\n",
    "    inp_data = f.read()\n",
    "    \n",
    "assert solution2(inp_data) == 13726\n",
    "print(\"test passed\")"
   ]
  },
  {
   "cell_type": "code",
   "execution_count": null,
   "id": "7da827c8-b655-4928-9be1-b1046336625c",
   "metadata": {},
   "outputs": [],
   "source": []
  }
 ],
 "metadata": {
  "kernelspec": {
   "display_name": "Python 3 (ipykernel)",
   "language": "python",
   "name": "python3"
  },
  "language_info": {
   "codemirror_mode": {
    "name": "ipython",
    "version": 3
   },
   "file_extension": ".py",
   "mimetype": "text/x-python",
   "name": "python",
   "nbconvert_exporter": "python",
   "pygments_lexer": "ipython3",
   "version": "3.10.8"
  }
 },
 "nbformat": 4,
 "nbformat_minor": 5
}
