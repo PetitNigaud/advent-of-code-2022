{
 "cells": [
  {
   "cell_type": "markdown",
   "id": "9672b17f-7a5e-47b5-ab50-6eb82e70f884",
   "metadata": {},
   "source": [
    "# Day 12\n",
    "\n",
    "https://adventofcode.com/2022/day/12\n",
    "\n",
    "Had to get some inspiration from: \n",
    "[Jonathon Paulson](https://github.com/jonathanpaulson/AdventOfCode/blob/master/2022/12.py)\n",
    "\n",
    "My previous method was too brute force, included going back to visited places and did not finish...\n",
    "\n",
    "## Part 1"
   ]
  },
  {
   "cell_type": "code",
   "execution_count": 1,
   "id": "254ce369-6aeb-4d63-911e-b2cfb6967475",
   "metadata": {},
   "outputs": [
    {
     "data": {
      "text/plain": [
       "'Sabqponm\\nabcryxxl\\naccszExk\\nacctuvwj\\nabdefghi'"
      ]
     },
     "execution_count": 1,
     "metadata": {},
     "output_type": "execute_result"
    }
   ],
   "source": [
    "test_result = 13\n",
    "test_data = \"\"\"\\\n",
    "Sabqponm\n",
    "abcryxxl\n",
    "accszExk\n",
    "acctuvwj\n",
    "abdefghi\"\"\"\n",
    "test_data"
   ]
  },
  {
   "cell_type": "code",
   "execution_count": 2,
   "id": "036cd5f9-858e-4f03-b651-fecd1a0a5f3d",
   "metadata": {},
   "outputs": [
    {
     "name": "stdout",
     "output_type": "stream",
     "text": [
      "start pos: (0, 0)\n",
      "map shape: (5, 8)\n",
      "solution: 31\n",
      "test passed\n"
     ]
    }
   ],
   "source": [
    "from string import ascii_lowercase\n",
    "from collections import deque\n",
    "\n",
    "\n",
    "def get_start_position(_map):\n",
    "    # Find Start (not at top left in input)\n",
    "    for i, line in enumerate(_map):\n",
    "        for j, col in enumerate(line):\n",
    "            if col == \"S\":\n",
    "                return (i, j)\n",
    "    raise Exception(\"did not find letter 'S' in map!\")\n",
    "    \n",
    "\n",
    "\n",
    "def get_level(s: str) -> int:\n",
    "    if s == \"S\":\n",
    "        s = \"a\"\n",
    "    return ascii_lowercase.index(s)\n",
    "#def level_from_pos(pos: (int, int), _map) -> str:\n",
    "#    return _map[pos[0]][pos[1]]\n",
    "\n",
    "def solution1(data):\n",
    "    _map = data.splitlines()\n",
    "\n",
    "    pos = get_start_position(_map)\n",
    "    print(f\"start pos: {pos}\")\n",
    "    \n",
    "    h, w = len(_map), len(_map[0])\n",
    "    print(f\"map shape: {h,w}\")\n",
    "    \n",
    "    _map_int = [[0 for __c in range(w)] for __r in range(h)]\n",
    "    for _i, line in enumerate(_map):\n",
    "        for _j, col in enumerate(line):\n",
    "            if col == \"S\":\n",
    "                col = \"a\"\n",
    "            elif col == \"E\":\n",
    "                col = \"z\"\n",
    "            _map_int[_i][_j] = ascii_lowercase.index(col)\n",
    "        \n",
    "           \n",
    "    queue = deque([(pos[0], pos[1], 0)])\n",
    "\n",
    "    visited = set()\n",
    "    count = 0\n",
    "    while queue:\n",
    "        job = queue.popleft()\n",
    "        row, col, score = job\n",
    "        if (row, col) in visited:\n",
    "            continue\n",
    "        visited.add((row, col))\n",
    "        \n",
    "        count += 1\n",
    "\n",
    "        level = _map[row][col]\n",
    "        level_int = _map_int[row][col]\n",
    "            \n",
    "        #print(f\"current job: {job}, pos: {pos}, level: {level}\")\n",
    "\n",
    "        for i, j in [(1, 0), (0, 1), (-1, 0), (0, -1)]:\n",
    "            _i = row + i\n",
    "            # line exceeds map height\n",
    "            if _i < 0 or _i > h - 1:\n",
    "                continue\n",
    "            _j = col + j\n",
    "                # col exceeds map width\n",
    "            if _j < 0 or _j > w - 1:\n",
    "                continue\n",
    "                \n",
    "            _level = _map[_i][_j]\n",
    "            if _level == \"E\":     \n",
    "                if level != \"y\" and level != \"z\":\n",
    "                    continue  \n",
    "                score += 1\n",
    "                print(\"solution:\", score)          \n",
    "                return score \n",
    "\n",
    "            _level_int = _map_int[_i][_j]\n",
    "            if _level_int <= level_int + 1:\n",
    "                queue.append((_i, _j, score + 1))\n",
    "        if count % 1000 == 0:\n",
    "            print(f\"{count} jobs done, queue length: {len(queue)}\")\n",
    "    \n",
    "\n",
    "assert solution1(test_data) == 31\n",
    "print(\"test passed\")"
   ]
  },
  {
   "cell_type": "code",
   "execution_count": 3,
   "id": "f641437e-350d-4f31-897b-2a4a66802749",
   "metadata": {},
   "outputs": [
    {
     "name": "stdout",
     "output_type": "stream",
     "text": [
      "start pos: (20, 0)\n",
      "map shape: (41, 159)\n",
      "1000 jobs done, queue length: 148\n",
      "2000 jobs done, queue length: 70\n",
      "3000 jobs done, queue length: 75\n",
      "4000 jobs done, queue length: 168\n",
      "5000 jobs done, queue length: 84\n",
      "6000 jobs done, queue length: 9\n",
      "solution: 504\n",
      "test passed\n"
     ]
    }
   ],
   "source": [
    "with open(\"day12.txt\") as f:\n",
    "    inp_data = f.read()\n",
    "\n",
    "assert solution1(inp_data) == 504\n",
    "print(\"test passed\")"
   ]
  },
  {
   "cell_type": "markdown",
   "id": "ca740981-8b91-47d7-a039-6aca70963b56",
   "metadata": {},
   "source": [
    "## Part 2"
   ]
  },
  {
   "cell_type": "code",
   "execution_count": 4,
   "id": "7e7c4c3e-cace-41d8-bb49-c49602d9a2fe",
   "metadata": {},
   "outputs": [
    {
     "name": "stdout",
     "output_type": "stream",
     "text": [
      "map shape: (5, 8)\n",
      "solution: 29\n",
      "test passed\n"
     ]
    }
   ],
   "source": [
    "def solution2(data):\n",
    "    _map = data.splitlines()\n",
    "   \n",
    "    h, w = len(_map), len(_map[0])\n",
    "    print(f\"map shape: {h,w}\")\n",
    "    \n",
    "    queue = deque()\n",
    "    _map_int = [[0 for __c in range(w)] for __r in range(h)]\n",
    "    for _i, line in enumerate(_map):\n",
    "        for _j, col in enumerate(line):\n",
    "            if col == \"S\":\n",
    "                col = \"a\"\n",
    "            elif col == \"E\":\n",
    "                col = \"z\"            \n",
    "            _map_int[_i][_j] = ascii_lowercase.index(col)\n",
    "            if col == \"a\":\n",
    "                queue.append((_i, _j, 0))\n",
    "\n",
    "    \n",
    "\n",
    "    \n",
    "        \n",
    "    visited = set()\n",
    "    count = 0\n",
    "    while queue:\n",
    "        job = queue.popleft()\n",
    "        row, col, score = job\n",
    "        if (row, col) in visited:\n",
    "            continue\n",
    "        visited.add((row, col))\n",
    "        \n",
    "        count += 1\n",
    "\n",
    "        level = _map[row][col]\n",
    "        level_int = _map_int[row][col]\n",
    "            \n",
    "        #print(f\"current job: {job}, pos: {pos}, level: {level}\")\n",
    "\n",
    "        for i, j in [(1, 0), (0, 1), (-1, 0), (0, -1)]:\n",
    "            _i = row + i\n",
    "            # line exceeds map height\n",
    "            if _i < 0 or _i > h - 1:\n",
    "                continue\n",
    "            _j = col + j\n",
    "                # col exceeds map width\n",
    "            if _j < 0 or _j > w - 1:\n",
    "                continue\n",
    "                \n",
    "            _level = _map[_i][_j]\n",
    "            if _level == \"E\":     \n",
    "                if level != \"y\" and level != \"z\":\n",
    "                    continue  \n",
    "                score += 1\n",
    "                print(\"solution:\", score)          \n",
    "                return score \n",
    "\n",
    "            _level_int = _map_int[_i][_j]\n",
    "            if _level_int <= level_int + 1:\n",
    "                queue.append((_i, _j, score + 1))\n",
    "        if count % 1000 == 0:\n",
    "            print(f\"{count} jobs done, queue length: {len(queue)}\")\n",
    "    \n",
    "\n",
    "assert solution2(test_data) == 29\n",
    "print(\"test passed\")"
   ]
  },
  {
   "cell_type": "code",
   "execution_count": 5,
   "id": "c9dc82bc-54f7-4530-a845-5372dc71b80f",
   "metadata": {},
   "outputs": [
    {
     "name": "stdout",
     "output_type": "stream",
     "text": [
      "map shape: (41, 159)\n",
      "1000 jobs done, queue length: 3961\n",
      "2000 jobs done, queue length: 117\n",
      "3000 jobs done, queue length: 38\n",
      "4000 jobs done, queue length: 97\n",
      "5000 jobs done, queue length: 99\n",
      "6000 jobs done, queue length: 9\n",
      "solution: 500\n"
     ]
    },
    {
     "ename": "AssertionError",
     "evalue": "",
     "output_type": "error",
     "traceback": [
      "\u001b[0;31m---------------------------------------------------------------------------\u001b[0m",
      "\u001b[0;31mAssertionError\u001b[0m                            Traceback (most recent call last)",
      "Cell \u001b[0;32mIn[5], line 2\u001b[0m\n\u001b[1;32m      1\u001b[0m sol2 \u001b[38;5;241m=\u001b[39m solution2(inp_data)\n\u001b[0;32m----> 2\u001b[0m \u001b[38;5;28;01massert\u001b[39;00m sol2 \u001b[38;5;241m==\u001b[39m \u001b[38;5;241m20683044837\u001b[39m\n\u001b[1;32m      3\u001b[0m \u001b[38;5;28mprint\u001b[39m(\u001b[38;5;124m\"\u001b[39m\u001b[38;5;124mtest passed\u001b[39m\u001b[38;5;124m\"\u001b[39m)\n",
      "\u001b[0;31mAssertionError\u001b[0m: "
     ]
    }
   ],
   "source": [
    "sol2 = solution2(inp_data)\n",
    "assert sol2 == 20683044837\n",
    "print(\"test passed\")"
   ]
  },
  {
   "cell_type": "code",
   "execution_count": null,
   "id": "7959775d-6193-4020-94f4-9651bb951533",
   "metadata": {},
   "outputs": [],
   "source": []
  }
 ],
 "metadata": {
  "kernelspec": {
   "display_name": "Python 3 (ipykernel)",
   "language": "python",
   "name": "python3"
  },
  "language_info": {
   "codemirror_mode": {
    "name": "ipython",
    "version": 3
   },
   "file_extension": ".py",
   "mimetype": "text/x-python",
   "name": "python",
   "nbconvert_exporter": "python",
   "pygments_lexer": "ipython3",
   "version": "3.10.8"
  }
 },
 "nbformat": 4,
 "nbformat_minor": 5
}
