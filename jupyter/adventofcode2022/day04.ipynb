{
 "cells": [
  {
   "cell_type": "markdown",
   "id": "9672b17f-7a5e-47b5-ab50-6eb82e70f884",
   "metadata": {},
   "source": [
    "# Day 04\n",
    "\n",
    "https://adventofcode.com/2022/day/4\n",
    "\n",
    "## Part 1"
   ]
  },
  {
   "cell_type": "code",
   "execution_count": 1,
   "id": "4ca2f965-0747-478a-8304-fe9499f7a7f5",
   "metadata": {},
   "outputs": [
    {
     "data": {
      "text/plain": [
       "'abcdefghijklmnopqrstuvwxyz'"
      ]
     },
     "execution_count": 1,
     "metadata": {},
     "output_type": "execute_result"
    }
   ],
   "source": [
    "import string\n",
    "string.ascii_lowercase"
   ]
  },
  {
   "cell_type": "code",
   "execution_count": 2,
   "id": "254ce369-6aeb-4d63-911e-b2cfb6967475",
   "metadata": {},
   "outputs": [
    {
     "data": {
      "text/plain": [
       "'2-4,6-8\\n2-3,4-5\\n5-7,7-9\\n2-8,3-7\\n6-6,4-6\\n2-6,4-8\\n'"
      ]
     },
     "execution_count": 2,
     "metadata": {},
     "output_type": "execute_result"
    }
   ],
   "source": [
    "test_result = 2\n",
    "test_data = \"\"\"\\\n",
    "2-4,6-8\n",
    "2-3,4-5\n",
    "5-7,7-9\n",
    "2-8,3-7\n",
    "6-6,4-6\n",
    "2-6,4-8\n",
    "\"\"\"\n",
    "test_data"
   ]
  },
  {
   "cell_type": "code",
   "execution_count": 3,
   "id": "6eaa127c-cc2f-4109-ab8d-e3429d6626d9",
   "metadata": {},
   "outputs": [
    {
     "data": {
      "text/plain": [
       "['2-4,6-8', '2-3,4-5', '5-7,7-9', '2-8,3-7', '6-6,4-6', '2-6,4-8']"
      ]
     },
     "execution_count": 3,
     "metadata": {},
     "output_type": "execute_result"
    }
   ],
   "source": [
    "test_data.splitlines()"
   ]
  },
  {
   "cell_type": "code",
   "execution_count": 4,
   "id": "78b8dc7c-1cd4-40fd-ac8d-b439d94527c6",
   "metadata": {},
   "outputs": [],
   "source": [
    "def parse_range(s: str):\n",
    "    return [int(_s) for _s in s.split(\"-\")]\n",
    "\n",
    "def check_contain(r1, r2):\n",
    "    \"\"\"Check if range r2 is contained in range r1\"\"\"\n",
    "    if r1[0] <= r2[0] and r1[1] >= r2[1]:\n",
    "        return True\n",
    "    return False"
   ]
  },
  {
   "cell_type": "code",
   "execution_count": 5,
   "id": "1532bf8e-0734-48e2-9c1e-d18e88d91a70",
   "metadata": {},
   "outputs": [
    {
     "name": "stdout",
     "output_type": "stream",
     "text": [
      "test passed\n"
     ]
    }
   ],
   "source": [
    "def solution1(data):\n",
    "    _sum = 0\n",
    "    for line in data.splitlines():\n",
    "        r1, r2 = [parse_range(s) for s in line.split(\",\")]\n",
    "\n",
    "        check = check_contain(r1, r2) | check_contain(r2, r1)\n",
    "        if check:\n",
    "            _sum += 1\n",
    "    return _sum\n",
    "\n",
    "assert solution1(test_data) == test_result\n",
    "print(\"test passed\")"
   ]
  },
  {
   "cell_type": "code",
   "execution_count": 6,
   "id": "f641437e-350d-4f31-897b-2a4a66802749",
   "metadata": {},
   "outputs": [
    {
     "name": "stdout",
     "output_type": "stream",
     "text": [
      "550\n",
      "test passed\n"
     ]
    }
   ],
   "source": [
    "with open(\"day04.txt\") as f:\n",
    "    inp_data = f.read()\n",
    "sol1 = solution1(inp_data)\n",
    "print(sol1)\n",
    "assert sol1 == 550\n",
    "print(\"test passed\")"
   ]
  },
  {
   "cell_type": "markdown",
   "id": "ca740981-8b91-47d7-a039-6aca70963b56",
   "metadata": {},
   "source": [
    "## Part 2"
   ]
  },
  {
   "cell_type": "code",
   "execution_count": 7,
   "id": "0795466b-331c-496d-ac98-5d2218e8ebbc",
   "metadata": {},
   "outputs": [],
   "source": [
    "test_result2 = 4"
   ]
  },
  {
   "cell_type": "code",
   "execution_count": 8,
   "id": "7e7c4c3e-cace-41d8-bb49-c49602d9a2fe",
   "metadata": {},
   "outputs": [
    {
     "name": "stdout",
     "output_type": "stream",
     "text": [
      "test passed\n"
     ]
    }
   ],
   "source": [
    "def check_overlap(r1, r2):\n",
    "    return r2[0] <= r1[1] <= r2[1]\n",
    "\n",
    "\n",
    "def solution2(data):        \n",
    "    _sum = 0\n",
    "    for line in data.splitlines():\n",
    "        r1, r2 = [parse_range(s) for s in line.split(\",\")]\n",
    "\n",
    "        check = check_overlap(r1, r2) | check_overlap(r2, r1)\n",
    "        if check:\n",
    "            _sum += 1\n",
    "    return _sum\n",
    "    \n",
    "assert solution2(test_data) == test_result2\n",
    "print(\"test passed\")"
   ]
  },
  {
   "cell_type": "code",
   "execution_count": 9,
   "id": "a618aab6-605c-4d9d-81d6-cd90a8c8cf41",
   "metadata": {},
   "outputs": [
    {
     "name": "stdout",
     "output_type": "stream",
     "text": [
      "931\n",
      "test passed\n"
     ]
    }
   ],
   "source": [
    "sol2 = solution2(inp_data)\n",
    "print(sol2)\n",
    "assert sol2 == 931\n",
    "print(\"test passed\")"
   ]
  },
  {
   "cell_type": "code",
   "execution_count": null,
   "id": "7da827c8-b655-4928-9be1-b1046336625c",
   "metadata": {},
   "outputs": [],
   "source": []
  }
 ],
 "metadata": {
  "kernelspec": {
   "display_name": "Python 3 (ipykernel)",
   "language": "python",
   "name": "python3"
  },
  "language_info": {
   "codemirror_mode": {
    "name": "ipython",
    "version": 3
   },
   "file_extension": ".py",
   "mimetype": "text/x-python",
   "name": "python",
   "nbconvert_exporter": "python",
   "pygments_lexer": "ipython3",
   "version": "3.10.8"
  }
 },
 "nbformat": 4,
 "nbformat_minor": 5
}
