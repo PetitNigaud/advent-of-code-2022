{
 "cells": [
  {
   "cell_type": "markdown",
   "id": "9672b17f-7a5e-47b5-ab50-6eb82e70f884",
   "metadata": {},
   "source": [
    "# Day 13\n",
    "\n",
    "https://adventofcode.com/2022/day/13\n",
    "\n",
    "Again I got (a lot of) inspiration from: \n",
    "[Jonathon Paulson](https://github.com/jonathanpaulson/AdventOfCode/blob/master/2022/13.py)\n",
    "\n",
    "Lessons learned:\n",
    " - _eval_ converts string into nested list of ints\n",
    "\n",
    "## Part 1"
   ]
  },
  {
   "cell_type": "code",
   "execution_count": 1,
   "id": "254ce369-6aeb-4d63-911e-b2cfb6967475",
   "metadata": {},
   "outputs": [
    {
     "data": {
      "text/plain": [
       "'[1,1,3,1,1]\\n[1,1,5,1,1]\\n\\n[[1],[2,3,4]]\\n[[1],4]\\n\\n[9]\\n[[8,7,6]]\\n\\n[[4,4],4,4]\\n[[4,4],4,4,4]\\n\\n[7,7,7,7]\\n[7,7,7]\\n\\n[]\\n[3]\\n\\n[[[]]]\\n[[]]\\n\\n[1,[2,[3,[4,[5,6,7]]]],8,9]\\n[1,[2,[3,[4,[5,6,0]]]],8,9]'"
      ]
     },
     "execution_count": 1,
     "metadata": {},
     "output_type": "execute_result"
    }
   ],
   "source": [
    "test_result = 13\n",
    "test_data = \"\"\"\\\n",
    "[1,1,3,1,1]\n",
    "[1,1,5,1,1]\n",
    "\n",
    "[[1],[2,3,4]]\n",
    "[[1],4]\n",
    "\n",
    "[9]\n",
    "[[8,7,6]]\n",
    "\n",
    "[[4,4],4,4]\n",
    "[[4,4],4,4,4]\n",
    "\n",
    "[7,7,7,7]\n",
    "[7,7,7]\n",
    "\n",
    "[]\n",
    "[3]\n",
    "\n",
    "[[[]]]\n",
    "[[]]\n",
    "\n",
    "[1,[2,[3,[4,[5,6,7]]]],8,9]\n",
    "[1,[2,[3,[4,[5,6,0]]]],8,9]\"\"\"\n",
    "test_data"
   ]
  },
  {
   "cell_type": "code",
   "execution_count": 2,
   "id": "036cd5f9-858e-4f03-b651-fecd1a0a5f3d",
   "metadata": {},
   "outputs": [
    {
     "name": "stdout",
     "output_type": "stream",
     "text": [
      "13\n",
      "test passed\n"
     ]
    }
   ],
   "source": [
    "def compare(lp, rp):\n",
    "    # both int\n",
    "    if isinstance(lp, int) and isinstance(rp, int):\n",
    "        if lp < rp:\n",
    "            return -1    # right order\n",
    "        elif lp == rp:\n",
    "            return 0     # neutral\n",
    "        else:\n",
    "            return 1     # not in right order\n",
    "    \n",
    "    # both list\n",
    "    if isinstance(lp, list) and isinstance(rp, list):\n",
    "        # compare until first runs out of elements\n",
    "        i = 0        \n",
    "        while i < len(lp) and i < len(rp):\n",
    "            c = compare(lp[i], rp[i])\n",
    "            if c == -1:\n",
    "                return -1\n",
    "            elif c == 1:\n",
    "                return 1\n",
    "            i += 1\n",
    "        if i == len(lp) and i < len(rp):\n",
    "            return -1  # left packet shorter -> right order\n",
    "        elif i == len(rp) and i < len(lp):\n",
    "            return 1   # left packet longer -> not in right order\n",
    "        else:\n",
    "            return 0\n",
    "    elif isinstance(lp, int) and isinstance(rp, list):\n",
    "        return compare([lp], rp)\n",
    "    elif isinstance(lp, list) and isinstance(rp, int):\n",
    "        return compare(lp, [rp])\n",
    "    raise Exception(\"Unexpected: reached case not handled\")\n",
    "\n",
    "def solution1(data):\n",
    "    sol = 0\n",
    "    for i, packet in enumerate(data.split(\"\\n\\n\")):    \n",
    "        lp, rp = [eval(_p) for _p in packet.split(\"\\n\")]\n",
    "\n",
    "        c = compare(lp, rp)\n",
    "        #print(lp, rp, c)\n",
    "        if c == -1:\n",
    "            sol += i + 1\n",
    "    print(sol)\n",
    "    return sol\n",
    "    \n",
    "assert solution1(test_data) == 13\n",
    "print(\"test passed\")"
   ]
  },
  {
   "cell_type": "code",
   "execution_count": null,
   "id": "2e98996c-0c1c-441e-a611-12dae162fff6",
   "metadata": {},
   "outputs": [],
   "source": []
  },
  {
   "cell_type": "code",
   "execution_count": 3,
   "id": "f641437e-350d-4f31-897b-2a4a66802749",
   "metadata": {},
   "outputs": [
    {
     "name": "stdout",
     "output_type": "stream",
     "text": [
      "6272\n",
      "test passed\n"
     ]
    }
   ],
   "source": [
    "with open(\"day13.txt\") as f:\n",
    "    inp_data = f.read()\n",
    "\n",
    "assert solution1(inp_data) == 6272\n",
    "print(\"test passed\")"
   ]
  },
  {
   "cell_type": "markdown",
   "id": "ca740981-8b91-47d7-a039-6aca70963b56",
   "metadata": {},
   "source": [
    "## Part 2"
   ]
  },
  {
   "cell_type": "code",
   "execution_count": 4,
   "id": "7e7c4c3e-cace-41d8-bb49-c49602d9a2fe",
   "metadata": {},
   "outputs": [
    {
     "name": "stdout",
     "output_type": "stream",
     "text": [
      "140\n",
      "test passed\n"
     ]
    }
   ],
   "source": [
    "from functools import cmp_to_key\n",
    "\n",
    "\n",
    "def solution2(data):\n",
    "\n",
    "    packets = [[[2]], [[6]]]\n",
    "\n",
    "    for packet in data.split(\"\\n\\n\"):    \n",
    "        lp, rp = [eval(_p) for _p in packet.split(\"\\n\")]\n",
    "        packets.append(lp)\n",
    "        packets.append(rp)\n",
    "    \n",
    "    # use compare function to sort packets\n",
    "    packets = sorted(packets, key = cmp_to_key(lambda p1,p2: compare(p1,p2)))\n",
    "\n",
    "    sol2 = 1\n",
    "    for i, packet in enumerate(packets):\n",
    "        if packet == [[2]] or packet == [[6]]:\n",
    "            sol2 *= i+1\n",
    "    print(sol2)\n",
    "    return sol2\n",
    "\n",
    "assert solution2(test_data) == 140\n",
    "print(\"test passed\")"
   ]
  },
  {
   "cell_type": "code",
   "execution_count": 5,
   "id": "c9dc82bc-54f7-4530-a845-5372dc71b80f",
   "metadata": {},
   "outputs": [
    {
     "name": "stdout",
     "output_type": "stream",
     "text": [
      "22288\n",
      "test passed\n"
     ]
    }
   ],
   "source": [
    "sol2 = solution2(inp_data)\n",
    "assert sol2 == 22288\n",
    "print(\"test passed\")"
   ]
  },
  {
   "cell_type": "code",
   "execution_count": null,
   "id": "7959775d-6193-4020-94f4-9651bb951533",
   "metadata": {},
   "outputs": [],
   "source": []
  }
 ],
 "metadata": {
  "kernelspec": {
   "display_name": "Python 3 (ipykernel)",
   "language": "python",
   "name": "python3"
  },
  "language_info": {
   "codemirror_mode": {
    "name": "ipython",
    "version": 3
   },
   "file_extension": ".py",
   "mimetype": "text/x-python",
   "name": "python",
   "nbconvert_exporter": "python",
   "pygments_lexer": "ipython3",
   "version": "3.10.8"
  }
 },
 "nbformat": 4,
 "nbformat_minor": 5
}
