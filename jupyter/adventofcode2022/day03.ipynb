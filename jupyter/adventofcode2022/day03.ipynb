{
 "cells": [
  {
   "cell_type": "markdown",
   "id": "9672b17f-7a5e-47b5-ab50-6eb82e70f884",
   "metadata": {},
   "source": [
    "# Day 03\n",
    "\n",
    "https://adventofcode.com/2022/day/3\n",
    "\n",
    "## Part 1"
   ]
  },
  {
   "cell_type": "code",
   "execution_count": 1,
   "id": "4ca2f965-0747-478a-8304-fe9499f7a7f5",
   "metadata": {},
   "outputs": [
    {
     "data": {
      "text/plain": [
       "'abcdefghijklmnopqrstuvwxyz'"
      ]
     },
     "execution_count": 1,
     "metadata": {},
     "output_type": "execute_result"
    }
   ],
   "source": [
    "import string\n",
    "string.ascii_lowercase"
   ]
  },
  {
   "cell_type": "code",
   "execution_count": 2,
   "id": "254ce369-6aeb-4d63-911e-b2cfb6967475",
   "metadata": {},
   "outputs": [
    {
     "data": {
      "text/plain": [
       "'vJrwpWtwJgWrhcsFMMfFFhFp\\njqHRNqRjqzjGDLGLrsFMfFZSrLrFZsSL\\nPmmdzqPrVvPwwTWBwg\\nwMqvLMZHhHMvwLHjbvcjnnSBnvTQFn\\nttgJtRGJQctTZtZT\\nCrZsJsPPZsGzwwsLwLmpwMDw\\n'"
      ]
     },
     "execution_count": 2,
     "metadata": {},
     "output_type": "execute_result"
    }
   ],
   "source": [
    "test_result = 157\n",
    "test_data = \"\"\"\\\n",
    "vJrwpWtwJgWrhcsFMMfFFhFp\n",
    "jqHRNqRjqzjGDLGLrsFMfFZSrLrFZsSL\n",
    "PmmdzqPrVvPwwTWBwg\n",
    "wMqvLMZHhHMvwLHjbvcjnnSBnvTQFn\n",
    "ttgJtRGJQctTZtZT\n",
    "CrZsJsPPZsGzwwsLwLmpwMDw\n",
    "\"\"\"\n",
    "test_data"
   ]
  },
  {
   "cell_type": "code",
   "execution_count": 3,
   "id": "6eaa127c-cc2f-4109-ab8d-e3429d6626d9",
   "metadata": {},
   "outputs": [
    {
     "data": {
      "text/plain": [
       "['vJrwpWtwJgWrhcsFMMfFFhFp',\n",
       " 'jqHRNqRjqzjGDLGLrsFMfFZSrLrFZsSL',\n",
       " 'PmmdzqPrVvPwwTWBwg',\n",
       " 'wMqvLMZHhHMvwLHjbvcjnnSBnvTQFn',\n",
       " 'ttgJtRGJQctTZtZT',\n",
       " 'CrZsJsPPZsGzwwsLwLmpwMDw']"
      ]
     },
     "execution_count": 3,
     "metadata": {},
     "output_type": "execute_result"
    }
   ],
   "source": [
    "test_data.splitlines()"
   ]
  },
  {
   "cell_type": "code",
   "execution_count": 4,
   "id": "3c343a8b-e8e9-40cc-bc49-a89547da72ea",
   "metadata": {},
   "outputs": [
    {
     "name": "stdout",
     "output_type": "stream",
     "text": [
      "test passed\n"
     ]
    }
   ],
   "source": [
    "lookup = [s for s in string.ascii_lowercase + string.ascii_uppercase]\n",
    "\n",
    "def calc_prio(line: str):\n",
    "    item_id = None\n",
    "    l = len(line)\n",
    "    c1 = line[:l//2]\n",
    "    c2 = line[l//2:]\n",
    "    assert len(c1) == len(c2)\n",
    "    for item in c1:\n",
    "        if item in c2:\n",
    "            item_id = item\n",
    "            break\n",
    "    assert item_id is not None\n",
    "    \n",
    "    prio = lookup.index(item_id) + 1\n",
    "    return prio\n",
    "\n",
    "def calc_prios(data):\n",
    "    return [calc_prio(line) for line in data.splitlines()]\n",
    "\n",
    "assert calc_prios(test_data) == [16, 38, 42, 22, 20, 19]\n",
    "print(\"test passed\")"
   ]
  },
  {
   "cell_type": "code",
   "execution_count": 5,
   "id": "1532bf8e-0734-48e2-9c1e-d18e88d91a70",
   "metadata": {},
   "outputs": [
    {
     "name": "stdout",
     "output_type": "stream",
     "text": [
      "test passed\n"
     ]
    }
   ],
   "source": [
    "def solution1(data):\n",
    "    prios = calc_prios(data)    \n",
    "    return sum(prios)\n",
    "\n",
    "assert solution1(test_data) == test_result\n",
    "print(\"test passed\")"
   ]
  },
  {
   "cell_type": "code",
   "execution_count": 6,
   "id": "f641437e-350d-4f31-897b-2a4a66802749",
   "metadata": {},
   "outputs": [
    {
     "name": "stdout",
     "output_type": "stream",
     "text": [
      "7889\n",
      "test passed\n"
     ]
    }
   ],
   "source": [
    "with open(\"day03.txt\") as f:\n",
    "    inp_data = f.read()\n",
    "sol1 = solution1(inp_data)\n",
    "print(sol1)\n",
    "assert sol1 == 7889\n",
    "print(\"test passed\")"
   ]
  },
  {
   "cell_type": "markdown",
   "id": "ca740981-8b91-47d7-a039-6aca70963b56",
   "metadata": {},
   "source": [
    "## Part 2"
   ]
  },
  {
   "cell_type": "code",
   "execution_count": 7,
   "id": "0795466b-331c-496d-ac98-5d2218e8ebbc",
   "metadata": {},
   "outputs": [],
   "source": [
    "test_result2 = 70"
   ]
  },
  {
   "cell_type": "code",
   "execution_count": 8,
   "id": "7e7c4c3e-cace-41d8-bb49-c49602d9a2fe",
   "metadata": {},
   "outputs": [
    {
     "name": "stdout",
     "output_type": "stream",
     "text": [
      "test passed\n"
     ]
    }
   ],
   "source": [
    "def calc_prios2(data):\n",
    "    data_split = data.splitlines()\n",
    "    prios = []\n",
    "    for idx in range(0, len(data_split), 3):\n",
    "        item_id = None\n",
    "        group = data_split[idx:idx+3]\n",
    "        assert len(group) == 3\n",
    "        r1, r2, r3 = group\n",
    "        for item in r1:\n",
    "            if item in r2 and item in r3:\n",
    "                item_id = item\n",
    "                break\n",
    "        assert item_id is not None\n",
    "        prio = lookup.index(item_id) + 1\n",
    "        prios.append(prio)\n",
    "    return prios\n",
    "\n",
    "assert calc_prios2(test_data) == [18, 52]\n",
    "print(\"test passed\")"
   ]
  },
  {
   "cell_type": "code",
   "execution_count": 9,
   "id": "a618aab6-605c-4d9d-81d6-cd90a8c8cf41",
   "metadata": {},
   "outputs": [
    {
     "name": "stdout",
     "output_type": "stream",
     "text": [
      "2825\n",
      "test passed\n"
     ]
    }
   ],
   "source": [
    "def solution2(data):        \n",
    "    prios = calc_prios2(data)\n",
    "    return sum(prios)\n",
    "\n",
    "sol2 = solution2(inp_data)\n",
    "print(sol2)\n",
    "assert sol2 == 2825\n",
    "print(\"test passed\")"
   ]
  },
  {
   "cell_type": "code",
   "execution_count": null,
   "id": "7da827c8-b655-4928-9be1-b1046336625c",
   "metadata": {},
   "outputs": [],
   "source": []
  }
 ],
 "metadata": {
  "kernelspec": {
   "display_name": "Python 3 (ipykernel)",
   "language": "python",
   "name": "python3"
  },
  "language_info": {
   "codemirror_mode": {
    "name": "ipython",
    "version": 3
   },
   "file_extension": ".py",
   "mimetype": "text/x-python",
   "name": "python",
   "nbconvert_exporter": "python",
   "pygments_lexer": "ipython3",
   "version": "3.10.8"
  }
 },
 "nbformat": 4,
 "nbformat_minor": 5
}
