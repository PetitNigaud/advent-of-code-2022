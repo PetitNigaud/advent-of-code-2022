{
 "cells": [
  {
   "cell_type": "markdown",
   "id": "9672b17f-7a5e-47b5-ab50-6eb82e70f884",
   "metadata": {},
   "source": [
    "# Day 18\n",
    "\n",
    "https://adventofcode.com/2022/day/18\n",
    "\n",
    "Part 1 i figured out myself and it was quite easy. For Part 2 I got some inspiration from Hyper-Neutrino (maybe I could have figured it out myself, in the end it was not so hard):\n",
    "\n",
    "https://github.com/hyper-neutrino/advent-of-code/blob/main/2022/day18p2.py\n",
    "\n",
    "## Part 1"
   ]
  },
  {
   "cell_type": "code",
   "execution_count": 1,
   "id": "254ce369-6aeb-4d63-911e-b2cfb6967475",
   "metadata": {},
   "outputs": [
    {
     "data": {
      "text/plain": [
       "'2,2,2\\n1,2,2\\n3,2,2\\n2,1,2\\n2,3,2\\n2,2,1\\n2,2,3\\n2,2,4\\n2,2,6\\n1,2,5\\n3,2,5\\n2,1,5\\n2,3,5'"
      ]
     },
     "execution_count": 1,
     "metadata": {},
     "output_type": "execute_result"
    }
   ],
   "source": [
    "test_data = \"\"\"\\\n",
    "2,2,2\n",
    "1,2,2\n",
    "3,2,2\n",
    "2,1,2\n",
    "2,3,2\n",
    "2,2,1\n",
    "2,2,3\n",
    "2,2,4\n",
    "2,2,6\n",
    "1,2,5\n",
    "3,2,5\n",
    "2,1,5\n",
    "2,3,5\"\"\"\n",
    "test_data"
   ]
  },
  {
   "cell_type": "code",
   "execution_count": 2,
   "id": "b4da5e6e-d0de-443e-b9a7-e7d57698e60d",
   "metadata": {},
   "outputs": [
    {
     "name": "stdout",
     "output_type": "stream",
     "text": [
      "nr of cubes: 13 -> 78 sides\n",
      "found 7 neighboring sides\n",
      "Solution: 64\n",
      "test passed\n"
     ]
    }
   ],
   "source": [
    "def solution1(data):   \n",
    "    cubes = []\n",
    "    for line in data.split(\"\\n\"):\n",
    "        cubes.append([int(x) for x in line.split(\",\")])\n",
    "\n",
    "    neighbors = 0\n",
    "    for i1, c1 in enumerate(cubes[:-2]):\n",
    "        for c2 in cubes[i1+1:]:\n",
    "            dist = sum([abs(x1-x2) for x1, x2 in zip(c1, c2)])\n",
    "            if dist == 1:\n",
    "                neighbors += 1\n",
    "                \n",
    "    print(f\"nr of cubes: {len(cubes)} -> {len(cubes) * 6} sides\")\n",
    "    print(f\"found {neighbors} neighboring sides\")\n",
    "    sol1 = len(cubes) * 6 - 2 * neighbors\n",
    "    print(\"Solution:\", sol1)\n",
    "    return sol1\n",
    "    \n",
    "sol1 = solution1(test_data)\n",
    "assert sol1 == 64\n",
    "print(\"test passed\")"
   ]
  },
  {
   "cell_type": "code",
   "execution_count": 3,
   "id": "f641437e-350d-4f31-897b-2a4a66802749",
   "metadata": {},
   "outputs": [
    {
     "name": "stdout",
     "output_type": "stream",
     "text": [
      "nr of cubes: 2192 -> 13152 sides\n",
      "found 4881 neighboring sides\n",
      "Solution: 3390\n",
      "test passed\n"
     ]
    }
   ],
   "source": [
    "with open(\"day18.txt\") as f:\n",
    "    inp_data = f.read()\n",
    "\n",
    "sol1 = solution1(inp_data)\n",
    "assert sol1 == 3390\n",
    "print(\"test passed\")"
   ]
  },
  {
   "cell_type": "markdown",
   "id": "ca740981-8b91-47d7-a039-6aca70963b56",
   "metadata": {},
   "source": [
    "## Part 2"
   ]
  },
  {
   "cell_type": "code",
   "execution_count": 4,
   "id": "7e7c4c3e-cace-41d8-bb49-c49602d9a2fe",
   "metadata": {},
   "outputs": [
    {
     "name": "stdout",
     "output_type": "stream",
     "text": [
      "Solution2: 58\n",
      "test passed\n"
     ]
    }
   ],
   "source": [
    "from collections import deque\n",
    "\n",
    "def solution2(data):\n",
    "    # cubes from input data\n",
    "    cubes = set()\n",
    "    \n",
    "    # domain limits\n",
    "    x_min = y_min = z_min = 2**16\n",
    "    x_max = y_max = z_max = -2**16\n",
    "\n",
    "    for line in data.split(\"\\n\"):\n",
    "        x, y, z = [int(__x) for __x in line.split(\",\")]\n",
    "        cubes.add((x, y, z))\n",
    "\n",
    "        # update limit to +/- 1 of boundary cubes\n",
    "        x_min, y_min, z_min = [min(lim, coord-1) for lim, coord in zip([x_min, y_min, z_min], [x, y, z])]\n",
    "        x_max, y_max, z_max = [max(lim, coord+1) for lim, coord in zip([x_max, y_max, z_max], [x, y, z])]\n",
    "\n",
    "    # offsets around cube (no diagonals)\n",
    "    offsets = [(1, 0, 0), (-1, 0, 0), (0, 1, 0), (0, -1, 0), (0, 0, 1), (0, 0, -1)]\n",
    "    \n",
    "    # outside fields (touching a cube)\n",
    "    outside = set()\n",
    "    # queue for breadth first search starting at domain origin\n",
    "    Q = deque([(x_min, y_min, z_min)])\n",
    "    # visited coordinates\n",
    "    seen = set()\n",
    "\n",
    "    while Q:\n",
    "        q = Q.popleft()\n",
    "        if q in seen:\n",
    "            continue\n",
    "        seen.add(q)\n",
    "        x, y, z = q\n",
    "        # search neighboring cells \n",
    "        for dx, dy, dz in offsets:\n",
    "            _x , _y, _z = x + dx, y + dy, z + dz\n",
    "            # skip if not in bounds:\n",
    "            if not (x_min <= _x <= x_max and y_min <= _y <= y_max and z_min <= _z <= z_max):\n",
    "                continue       \n",
    "            # if neighbor is cube, add origin coords to outside set\n",
    "            if (_x, _y, _z) in cubes:\n",
    "                outside.add((x, y, z))\n",
    "                continue\n",
    "            # add to queue\n",
    "            Q.append((_x, _y, _z))\n",
    "\n",
    "\n",
    "    sol2 = 0\n",
    "    for c in cubes:\n",
    "        x, y, z = c\n",
    "        for dx, dy, dz in offsets:\n",
    "            _x , _y, _z = x + dx, y + dy, z + dz\n",
    "            c_new = (_x, _y, _z)\n",
    "            if c_new not in cubes and c_new in outside:\n",
    "                sol2 += 1\n",
    "    print(\"Solution2:\", sol2)\n",
    "    return sol2\n",
    "\n",
    "sol2 = solution2(test_data)\n",
    "assert sol2 == 58\n",
    "print(\"test passed\")"
   ]
  },
  {
   "cell_type": "code",
   "execution_count": 5,
   "id": "d8fd5388-f0e3-438e-84d8-42e39f994d38",
   "metadata": {},
   "outputs": [
    {
     "name": "stdout",
     "output_type": "stream",
     "text": [
      "Solution2: 2058\n",
      "test passed\n"
     ]
    }
   ],
   "source": [
    "sol2 = solution2(inp_data)\n",
    "assert sol2 == 2058\n",
    "print(\"test passed\")"
   ]
  },
  {
   "cell_type": "code",
   "execution_count": null,
   "id": "8ea05dee-c647-4d09-a9f6-7f3d9f8b2cc2",
   "metadata": {},
   "outputs": [],
   "source": []
  }
 ],
 "metadata": {
  "kernelspec": {
   "display_name": "Python 3 (ipykernel)",
   "language": "python",
   "name": "python3"
  },
  "language_info": {
   "codemirror_mode": {
    "name": "ipython",
    "version": 3
   },
   "file_extension": ".py",
   "mimetype": "text/x-python",
   "name": "python",
   "nbconvert_exporter": "python",
   "pygments_lexer": "ipython3",
   "version": "3.10.8"
  }
 },
 "nbformat": 4,
 "nbformat_minor": 5
}
