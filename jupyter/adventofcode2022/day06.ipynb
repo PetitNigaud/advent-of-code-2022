{
 "cells": [
  {
   "cell_type": "markdown",
   "id": "9672b17f-7a5e-47b5-ab50-6eb82e70f884",
   "metadata": {},
   "source": [
    "# Day 06\n",
    "\n",
    "https://adventofcode.com/2022/day/6\n",
    "\n",
    "## Part 1"
   ]
  },
  {
   "cell_type": "code",
   "execution_count": 1,
   "id": "254ce369-6aeb-4d63-911e-b2cfb6967475",
   "metadata": {},
   "outputs": [
    {
     "data": {
      "text/plain": [
       "'mjqjpqmgbljsphdztnvjfqwrcgsmlb'"
      ]
     },
     "execution_count": 1,
     "metadata": {},
     "output_type": "execute_result"
    }
   ],
   "source": [
    "test_result = 7\n",
    "test_data = \"\"\"mjqjpqmgbljsphdztnvjfqwrcgsmlb\"\"\"\n",
    "test_data"
   ]
  },
  {
   "cell_type": "code",
   "execution_count": 2,
   "id": "6eaa127c-cc2f-4109-ab8d-e3429d6626d9",
   "metadata": {},
   "outputs": [],
   "source": [
    "#test_data.splitlines()"
   ]
  },
  {
   "cell_type": "code",
   "execution_count": 3,
   "id": "4cc557f3-d3d0-4dc0-bd80-01cb09f98b9f",
   "metadata": {},
   "outputs": [
    {
     "name": "stdout",
     "output_type": "stream",
     "text": [
      "7 jpqm\n",
      "5 vwbj\n",
      "6 pdvj\n",
      "10 rfnt\n",
      "11 zqfr\n",
      "test passed\n"
     ]
    }
   ],
   "source": [
    "def solution1(data, length=4):\n",
    "    for i in range(0, len(data)-length + 1):\n",
    "        c = data[i:i+length]\n",
    "        if len(set(c)) == length:\n",
    "            break\n",
    "        \n",
    "        # check if only unique characters\n",
    "        #unique = True        \n",
    "        #for j in range(length-1):\n",
    "        #    if c[j] in c[j+1:]:\n",
    "        #        unique = False\n",
    "        #        break\n",
    "        #if unique:\n",
    "        #    break\n",
    "    \n",
    "    sol = i + length\n",
    "    print(sol, c)\n",
    "    return sol\n",
    "\n",
    "assert solution1(test_data) == test_result\n",
    "assert solution1(\"bvwbjplbgvbhsrlpgdmjqwftvncz\") == 5\n",
    "assert solution1(\"nppdvjthqldpwncqszvftbrmjlhg\") == 6\n",
    "assert solution1(\"nznrnfrfntjfmvfwmzdfjlvtqnbhcprsg\") == 10\n",
    "assert solution1(\"zcfzfwzzqfrljwzlrfnpqdbhtmscgvjw\") == 11\n",
    "\n",
    "print(\"test passed\")"
   ]
  },
  {
   "cell_type": "code",
   "execution_count": 4,
   "id": "f641437e-350d-4f31-897b-2a4a66802749",
   "metadata": {},
   "outputs": [
    {
     "name": "stdout",
     "output_type": "stream",
     "text": [
      "1093 bvtg\n",
      "test passed\n"
     ]
    }
   ],
   "source": [
    "with open(\"day06.txt\") as f:\n",
    "    inp_data = f.read()\n",
    "sol1 = solution1(inp_data)\n",
    "assert sol1 == 1093\n",
    "print(\"test passed\")"
   ]
  },
  {
   "cell_type": "markdown",
   "id": "ca740981-8b91-47d7-a039-6aca70963b56",
   "metadata": {},
   "source": [
    "## Part 2"
   ]
  },
  {
   "cell_type": "code",
   "execution_count": 5,
   "id": "0795466b-331c-496d-ac98-5d2218e8ebbc",
   "metadata": {},
   "outputs": [],
   "source": [
    "test_result2 = 9"
   ]
  },
  {
   "cell_type": "code",
   "execution_count": 6,
   "id": "7e7c4c3e-cace-41d8-bb49-c49602d9a2fe",
   "metadata": {},
   "outputs": [
    {
     "name": "stdout",
     "output_type": "stream",
     "text": [
      "19 qmgbljsphdztnv\n",
      "23 vbhsrlpgdmjqwf\n",
      "23 ldpwncqszvftbr\n",
      "29 wmzdfjlvtqnbhc\n",
      "26 jwzlrfnpqdbhtm\n",
      "test passed\n"
     ]
    }
   ],
   "source": [
    "# almost same as solution 1, just not reverse order of replaced items\n",
    "def solution2(data, length=14):\n",
    "    \n",
    "    for i in range(0, len(data)-length + 1):\n",
    "        c = data[i:i+length]\n",
    "        if len(set(c)) == length:\n",
    "            break\n",
    "        #unique = True\n",
    "        #for j in range(length-1):\n",
    "        #    if c[j] in c[j+1:]:\n",
    "        #        unique = False\n",
    "        #        break\n",
    "        #if unique:\n",
    "        #    break\n",
    "    \n",
    "    sol = i + length\n",
    "    print(sol, c)\n",
    "    return sol\n",
    "\n",
    "assert solution2(\"mjqjpqmgbljsphdztnvjfqwrcgsmlb\") == 19\n",
    "assert solution2(\"bvwbjplbgvbhsrlpgdmjqwftvncz\") == 23\n",
    "assert solution2(\"nppdvjthqldpwncqszvftbrmjlhg\") == 23\n",
    "assert solution2(\"nznrnfrfntjfmvfwmzdfjlvtqnbhcprsg\") == 29\n",
    "assert solution2(\"zcfzfwzzqfrljwzlrfnpqdbhtmscgvjw\") == 26\n",
    "\n",
    "print(\"test passed\")"
   ]
  },
  {
   "cell_type": "code",
   "execution_count": 7,
   "id": "a618aab6-605c-4d9d-81d6-cd90a8c8cf41",
   "metadata": {},
   "outputs": [
    {
     "name": "stdout",
     "output_type": "stream",
     "text": [
      "3534 chftrzlmndpwqg\n",
      "3534\n",
      "test passed\n"
     ]
    }
   ],
   "source": [
    "sol2 = solution2(inp_data)\n",
    "print(sol2)\n",
    "assert sol2 == 3534\n",
    "print(\"test passed\")"
   ]
  },
  {
   "cell_type": "code",
   "execution_count": 8,
   "id": "7da827c8-b655-4928-9be1-b1046336625c",
   "metadata": {},
   "outputs": [
    {
     "name": "stdout",
     "output_type": "stream",
     "text": [
      "14 cvtvbvfbvfbfqf\n"
     ]
    }
   ],
   "source": [
    "data = inp_data\n",
    "length = 14\n",
    "    \n",
    "for i in range(0, len(data)-length + 1):\n",
    "    c = data[i:i+length]\n",
    "    break\n",
    "    unique = True\n",
    "    for j in range(length-1):\n",
    "        if c[j] in c[j+1:]:\n",
    "            unique = False\n",
    "            break\n",
    "    if unique:\n",
    "        break\n",
    "    \n",
    "sol = i + length\n",
    "print(sol, c)"
   ]
  },
  {
   "cell_type": "code",
   "execution_count": 9,
   "id": "e2b008d4-c543-4dc5-ad3a-1575c603b94a",
   "metadata": {},
   "outputs": [
    {
     "name": "stdout",
     "output_type": "stream",
     "text": [
      "Help on class set in module builtins:\n",
      "\n",
      "class set(object)\n",
      " |  set() -> new empty set object\n",
      " |  set(iterable) -> new set object\n",
      " |  \n",
      " |  Build an unordered collection of unique elements.\n",
      " |  \n",
      " |  Methods defined here:\n",
      " |  \n",
      " |  __and__(self, value, /)\n",
      " |      Return self&value.\n",
      " |  \n",
      " |  __contains__(...)\n",
      " |      x.__contains__(y) <==> y in x.\n",
      " |  \n",
      " |  __eq__(self, value, /)\n",
      " |      Return self==value.\n",
      " |  \n",
      " |  __ge__(self, value, /)\n",
      " |      Return self>=value.\n",
      " |  \n",
      " |  __getattribute__(self, name, /)\n",
      " |      Return getattr(self, name).\n",
      " |  \n",
      " |  __gt__(self, value, /)\n",
      " |      Return self>value.\n",
      " |  \n",
      " |  __iand__(self, value, /)\n",
      " |      Return self&=value.\n",
      " |  \n",
      " |  __init__(self, /, *args, **kwargs)\n",
      " |      Initialize self.  See help(type(self)) for accurate signature.\n",
      " |  \n",
      " |  __ior__(self, value, /)\n",
      " |      Return self|=value.\n",
      " |  \n",
      " |  __isub__(self, value, /)\n",
      " |      Return self-=value.\n",
      " |  \n",
      " |  __iter__(self, /)\n",
      " |      Implement iter(self).\n",
      " |  \n",
      " |  __ixor__(self, value, /)\n",
      " |      Return self^=value.\n",
      " |  \n",
      " |  __le__(self, value, /)\n",
      " |      Return self<=value.\n",
      " |  \n",
      " |  __len__(self, /)\n",
      " |      Return len(self).\n",
      " |  \n",
      " |  __lt__(self, value, /)\n",
      " |      Return self<value.\n",
      " |  \n",
      " |  __ne__(self, value, /)\n",
      " |      Return self!=value.\n",
      " |  \n",
      " |  __or__(self, value, /)\n",
      " |      Return self|value.\n",
      " |  \n",
      " |  __rand__(self, value, /)\n",
      " |      Return value&self.\n",
      " |  \n",
      " |  __reduce__(...)\n",
      " |      Return state information for pickling.\n",
      " |  \n",
      " |  __repr__(self, /)\n",
      " |      Return repr(self).\n",
      " |  \n",
      " |  __ror__(self, value, /)\n",
      " |      Return value|self.\n",
      " |  \n",
      " |  __rsub__(self, value, /)\n",
      " |      Return value-self.\n",
      " |  \n",
      " |  __rxor__(self, value, /)\n",
      " |      Return value^self.\n",
      " |  \n",
      " |  __sizeof__(...)\n",
      " |      S.__sizeof__() -> size of S in memory, in bytes\n",
      " |  \n",
      " |  __sub__(self, value, /)\n",
      " |      Return self-value.\n",
      " |  \n",
      " |  __xor__(self, value, /)\n",
      " |      Return self^value.\n",
      " |  \n",
      " |  add(...)\n",
      " |      Add an element to a set.\n",
      " |      \n",
      " |      This has no effect if the element is already present.\n",
      " |  \n",
      " |  clear(...)\n",
      " |      Remove all elements from this set.\n",
      " |  \n",
      " |  copy(...)\n",
      " |      Return a shallow copy of a set.\n",
      " |  \n",
      " |  difference(...)\n",
      " |      Return the difference of two or more sets as a new set.\n",
      " |      \n",
      " |      (i.e. all elements that are in this set but not the others.)\n",
      " |  \n",
      " |  difference_update(...)\n",
      " |      Remove all elements of another set from this set.\n",
      " |  \n",
      " |  discard(...)\n",
      " |      Remove an element from a set if it is a member.\n",
      " |      \n",
      " |      If the element is not a member, do nothing.\n",
      " |  \n",
      " |  intersection(...)\n",
      " |      Return the intersection of two sets as a new set.\n",
      " |      \n",
      " |      (i.e. all elements that are in both sets.)\n",
      " |  \n",
      " |  intersection_update(...)\n",
      " |      Update a set with the intersection of itself and another.\n",
      " |  \n",
      " |  isdisjoint(...)\n",
      " |      Return True if two sets have a null intersection.\n",
      " |  \n",
      " |  issubset(...)\n",
      " |      Report whether another set contains this set.\n",
      " |  \n",
      " |  issuperset(...)\n",
      " |      Report whether this set contains another set.\n",
      " |  \n",
      " |  pop(...)\n",
      " |      Remove and return an arbitrary set element.\n",
      " |      Raises KeyError if the set is empty.\n",
      " |  \n",
      " |  remove(...)\n",
      " |      Remove an element from a set; it must be a member.\n",
      " |      \n",
      " |      If the element is not a member, raise a KeyError.\n",
      " |  \n",
      " |  symmetric_difference(...)\n",
      " |      Return the symmetric difference of two sets as a new set.\n",
      " |      \n",
      " |      (i.e. all elements that are in exactly one of the sets.)\n",
      " |  \n",
      " |  symmetric_difference_update(...)\n",
      " |      Update a set with the symmetric difference of itself and another.\n",
      " |  \n",
      " |  union(...)\n",
      " |      Return the union of sets as a new set.\n",
      " |      \n",
      " |      (i.e. all elements that are in either set.)\n",
      " |  \n",
      " |  update(...)\n",
      " |      Update a set with the union of itself and others.\n",
      " |  \n",
      " |  ----------------------------------------------------------------------\n",
      " |  Class methods defined here:\n",
      " |  \n",
      " |  __class_getitem__(...) from builtins.type\n",
      " |      See PEP 585\n",
      " |  \n",
      " |  ----------------------------------------------------------------------\n",
      " |  Static methods defined here:\n",
      " |  \n",
      " |  __new__(*args, **kwargs) from builtins.type\n",
      " |      Create and return a new object.  See help(type) for accurate signature.\n",
      " |  \n",
      " |  ----------------------------------------------------------------------\n",
      " |  Data and other attributes defined here:\n",
      " |  \n",
      " |  __hash__ = None\n",
      "\n"
     ]
    }
   ],
   "source": [
    "help(set)"
   ]
  },
  {
   "cell_type": "code",
   "execution_count": null,
   "id": "c9dc82bc-54f7-4530-a845-5372dc71b80f",
   "metadata": {},
   "outputs": [],
   "source": []
  }
 ],
 "metadata": {
  "kernelspec": {
   "display_name": "Python 3 (ipykernel)",
   "language": "python",
   "name": "python3"
  },
  "language_info": {
   "codemirror_mode": {
    "name": "ipython",
    "version": 3
   },
   "file_extension": ".py",
   "mimetype": "text/x-python",
   "name": "python",
   "nbconvert_exporter": "python",
   "pygments_lexer": "ipython3",
   "version": "3.10.8"
  }
 },
 "nbformat": 4,
 "nbformat_minor": 5
}
