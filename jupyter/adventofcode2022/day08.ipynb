{
 "cells": [
  {
   "cell_type": "markdown",
   "id": "9672b17f-7a5e-47b5-ab50-6eb82e70f884",
   "metadata": {},
   "source": [
    "# Day 08\n",
    "\n",
    "https://adventofcode.com/2022/day/8\n",
    "\n",
    "## Part 1"
   ]
  },
  {
   "cell_type": "code",
   "execution_count": 1,
   "id": "86c87a78-4f20-4251-b3b6-c5360a73f9ca",
   "metadata": {},
   "outputs": [],
   "source": [
    "import numpy as np"
   ]
  },
  {
   "cell_type": "code",
   "execution_count": 2,
   "id": "254ce369-6aeb-4d63-911e-b2cfb6967475",
   "metadata": {},
   "outputs": [
    {
     "data": {
      "text/plain": [
       "'30373\\n25512\\n65332\\n33549\\n35390'"
      ]
     },
     "execution_count": 2,
     "metadata": {},
     "output_type": "execute_result"
    }
   ],
   "source": [
    "test_result = 21\n",
    "test_data = \"\"\"\\\n",
    "30373\n",
    "25512\n",
    "65332\n",
    "33549\n",
    "35390\"\"\"\n",
    "test_data"
   ]
  },
  {
   "cell_type": "code",
   "execution_count": 3,
   "id": "6eaa127c-cc2f-4109-ab8d-e3429d6626d9",
   "metadata": {},
   "outputs": [
    {
     "data": {
      "text/plain": [
       "['30373', '25512', '65332', '33549', '35390']"
      ]
     },
     "execution_count": 3,
     "metadata": {},
     "output_type": "execute_result"
    }
   ],
   "source": [
    "test_data.splitlines()"
   ]
  },
  {
   "cell_type": "code",
   "execution_count": 4,
   "id": "66b836de-6568-4e96-a42b-a57c8e9f6b39",
   "metadata": {},
   "outputs": [
    {
     "name": "stdout",
     "output_type": "stream",
     "text": [
      "[[3 0 3 7 3]\n",
      " [2 5 5 1 2]\n",
      " [6 5 3 3 2]\n",
      " [3 3 5 4 9]\n",
      " [3 5 3 9 0]]\n"
     ]
    }
   ],
   "source": [
    "def import_data(data):\n",
    "    map_data = []\n",
    "    for line in data.splitlines():\n",
    "        map_data.append([int(x) for x in line])\n",
    "    map_data = np.array(map_data, dtype=int)\n",
    "    return map_data\n",
    "\n",
    "print(import_data(test_data))"
   ]
  },
  {
   "cell_type": "code",
   "execution_count": 5,
   "id": "e1899959-5749-4345-8b03-59b41d47914f",
   "metadata": {},
   "outputs": [
    {
     "name": "stdout",
     "output_type": "stream",
     "text": [
      "trees on edge: 16\n",
      "result: 21\n",
      "test passed\n"
     ]
    }
   ],
   "source": [
    "def solution1(data, verbose=False):\n",
    "    map_data = import_data(data)\n",
    "    \n",
    "    # trees on edge\n",
    "    h, w = map_data.shape\n",
    "    sol1 = 2 * (h + w) - 4\n",
    "    print(\"trees on edge:\", sol1)\n",
    "    \n",
    "    for row in range(1, map_data.shape[0]-1):\n",
    "        for col in range(1, map_data.shape[1]-1):\n",
    "            cur_val = map_data[row, col]\n",
    "            left = map_data[row, :][:col]\n",
    "            right = map_data[row, :][col+1:]\n",
    "            above = map_data[:, col][:row]\n",
    "            below = map_data[:, col][row+1:]\n",
    "\n",
    "            if verbose:\n",
    "                print(cur_val, left, right, above, below)\n",
    "            if cur_val > left.max():\n",
    "                sol1 += 1         \n",
    "                if verbose:\n",
    "                    print(\"visible from left\")\n",
    "                continue\n",
    "            elif cur_val > right.max():\n",
    "                sol1 += 1            \n",
    "                if verbose:\n",
    "                    print(\"visible from right\")\n",
    "                continue\n",
    "            elif cur_val > above.max():\n",
    "                sol1 += 1            \n",
    "                if verbose:\n",
    "                    print(\"visible from above\")\n",
    "                continue\n",
    "            elif cur_val > below.max():\n",
    "                sol1 += 1\n",
    "                if verbose:\n",
    "                    print(\"visible from below\")\n",
    "                continue\n",
    "            \n",
    "    print(\"result:\", sol1)\n",
    "    return sol1\n",
    "\n",
    "assert solution1(test_data) == test_result\n",
    "\n",
    "print(\"test passed\")"
   ]
  },
  {
   "cell_type": "code",
   "execution_count": 6,
   "id": "f641437e-350d-4f31-897b-2a4a66802749",
   "metadata": {},
   "outputs": [
    {
     "name": "stdout",
     "output_type": "stream",
     "text": [
      "trees on edge: 392\n",
      "result: 1825\n",
      "test passed\n"
     ]
    }
   ],
   "source": [
    "with open(\"day08.txt\") as f:\n",
    "    inp_data = f.read()\n",
    "sol1 = solution1(inp_data)\n",
    "\n",
    "assert sol1 < 2541\n",
    "assert sol1 == 1825\n",
    "print(\"test passed\")"
   ]
  },
  {
   "cell_type": "markdown",
   "id": "ca740981-8b91-47d7-a039-6aca70963b56",
   "metadata": {},
   "source": [
    "## Part 2"
   ]
  },
  {
   "cell_type": "code",
   "execution_count": 7,
   "id": "679bd3eb-fd0d-4241-8cf7-56d4a6f78316",
   "metadata": {},
   "outputs": [],
   "source": [
    "test_result = 8"
   ]
  },
  {
   "cell_type": "code",
   "execution_count": 8,
   "id": "7e7c4c3e-cace-41d8-bb49-c49602d9a2fe",
   "metadata": {},
   "outputs": [
    {
     "name": "stdout",
     "output_type": "stream",
     "text": [
      "result: 8\n",
      "test passed\n"
     ]
    }
   ],
   "source": [
    "def solution2(data):\n",
    "    sol2 = 0\n",
    "    map_data = import_data(data)\n",
    "\n",
    "    h, w = map_data.shape\n",
    "\n",
    "    for row in range(1, map_data.shape[0]-1):\n",
    "        for col in range(1, map_data.shape[1]-1):\n",
    "            cur_val = map_data[row, col]\n",
    "            left = 0\n",
    "            for i in range(col-1, -1, -1):\n",
    "                left += 1            \n",
    "                if not map_data[row, i] < cur_val:\n",
    "                    break\n",
    "            right = 0\n",
    "            for i in range(col+1, w):\n",
    "                right += 1\n",
    "                if not map_data[row, i] < cur_val:\n",
    "                    break\n",
    "            above = 0\n",
    "            for i in range(row-1, -1, -1):\n",
    "                above += 1\n",
    "                if not map_data[i, col] < cur_val:\n",
    "                    break\n",
    "            below = 0\n",
    "            for i in range(row+1, h):\n",
    "                below += 1\n",
    "                if not map_data[i, col] < cur_val:\n",
    "                    break\n",
    "            score = left * right * above * below\n",
    "            #print((row, col,), (left, right, above, below), score)\n",
    "            sol2 = max(sol2, score)\n",
    "    print(\"result:\", sol2)\n",
    "    return sol2\n",
    "\n",
    "assert solution2(test_data) == test_result\n",
    "print(\"test passed\")"
   ]
  },
  {
   "cell_type": "code",
   "execution_count": 9,
   "id": "c9dc82bc-54f7-4530-a845-5372dc71b80f",
   "metadata": {},
   "outputs": [
    {
     "name": "stdout",
     "output_type": "stream",
     "text": [
      "result: 235200\n",
      "test passed\n"
     ]
    }
   ],
   "source": [
    "sol2 = solution2(inp_data)\n",
    "assert sol2 < 483516\n",
    "assert sol2 == 235200\n",
    "print(\"test passed\")"
   ]
  },
  {
   "cell_type": "code",
   "execution_count": null,
   "id": "4b0963d4-ee9b-4537-85a9-e3171e3b9d1d",
   "metadata": {},
   "outputs": [],
   "source": []
  }
 ],
 "metadata": {
  "kernelspec": {
   "display_name": "Python 3 (ipykernel)",
   "language": "python",
   "name": "python3"
  },
  "language_info": {
   "codemirror_mode": {
    "name": "ipython",
    "version": 3
   },
   "file_extension": ".py",
   "mimetype": "text/x-python",
   "name": "python",
   "nbconvert_exporter": "python",
   "pygments_lexer": "ipython3",
   "version": "3.10.8"
  }
 },
 "nbformat": 4,
 "nbformat_minor": 5
}
