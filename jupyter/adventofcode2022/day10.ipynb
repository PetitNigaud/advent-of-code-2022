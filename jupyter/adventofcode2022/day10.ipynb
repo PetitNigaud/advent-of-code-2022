{
 "cells": [
  {
   "cell_type": "markdown",
   "id": "9672b17f-7a5e-47b5-ab50-6eb82e70f884",
   "metadata": {},
   "source": [
    "# Day 10\n",
    "\n",
    "https://adventofcode.com/2022/day/10\n",
    "\n",
    "## Part 1"
   ]
  },
  {
   "cell_type": "code",
   "execution_count": 1,
   "id": "254ce369-6aeb-4d63-911e-b2cfb6967475",
   "metadata": {},
   "outputs": [
    {
     "data": {
      "text/plain": [
       "'noop\\naddx 3\\naddx -5'"
      ]
     },
     "execution_count": 1,
     "metadata": {},
     "output_type": "execute_result"
    }
   ],
   "source": [
    "#test_result = 13\n",
    "test_data = \"\"\"\\\n",
    "noop\n",
    "addx 3\n",
    "addx -5\"\"\"\n",
    "test_data"
   ]
  },
  {
   "cell_type": "code",
   "execution_count": 2,
   "id": "6eaa127c-cc2f-4109-ab8d-e3429d6626d9",
   "metadata": {},
   "outputs": [],
   "source": [
    "test_result2 = 13140\n",
    "test_data2 = \"\"\"\\\n",
    "addx 15\n",
    "addx -11\n",
    "addx 6\n",
    "addx -3\n",
    "addx 5\n",
    "addx -1\n",
    "addx -8\n",
    "addx 13\n",
    "addx 4\n",
    "noop\n",
    "addx -1\n",
    "addx 5\n",
    "addx -1\n",
    "addx 5\n",
    "addx -1\n",
    "addx 5\n",
    "addx -1\n",
    "addx 5\n",
    "addx -1\n",
    "addx -35\n",
    "addx 1\n",
    "addx 24\n",
    "addx -19\n",
    "addx 1\n",
    "addx 16\n",
    "addx -11\n",
    "noop\n",
    "noop\n",
    "addx 21\n",
    "addx -15\n",
    "noop\n",
    "noop\n",
    "addx -3\n",
    "addx 9\n",
    "addx 1\n",
    "addx -3\n",
    "addx 8\n",
    "addx 1\n",
    "addx 5\n",
    "noop\n",
    "noop\n",
    "noop\n",
    "noop\n",
    "noop\n",
    "addx -36\n",
    "noop\n",
    "addx 1\n",
    "addx 7\n",
    "noop\n",
    "noop\n",
    "noop\n",
    "addx 2\n",
    "addx 6\n",
    "noop\n",
    "noop\n",
    "noop\n",
    "noop\n",
    "noop\n",
    "addx 1\n",
    "noop\n",
    "noop\n",
    "addx 7\n",
    "addx 1\n",
    "noop\n",
    "addx -13\n",
    "addx 13\n",
    "addx 7\n",
    "noop\n",
    "addx 1\n",
    "addx -33\n",
    "noop\n",
    "noop\n",
    "noop\n",
    "addx 2\n",
    "noop\n",
    "noop\n",
    "noop\n",
    "addx 8\n",
    "noop\n",
    "addx -1\n",
    "addx 2\n",
    "addx 1\n",
    "noop\n",
    "addx 17\n",
    "addx -9\n",
    "addx 1\n",
    "addx 1\n",
    "addx -3\n",
    "addx 11\n",
    "noop\n",
    "noop\n",
    "addx 1\n",
    "noop\n",
    "addx 1\n",
    "noop\n",
    "noop\n",
    "addx -13\n",
    "addx -19\n",
    "addx 1\n",
    "addx 3\n",
    "addx 26\n",
    "addx -30\n",
    "addx 12\n",
    "addx -1\n",
    "addx 3\n",
    "addx 1\n",
    "noop\n",
    "noop\n",
    "noop\n",
    "addx -9\n",
    "addx 18\n",
    "addx 1\n",
    "addx 2\n",
    "noop\n",
    "noop\n",
    "addx 9\n",
    "noop\n",
    "noop\n",
    "noop\n",
    "addx -1\n",
    "addx 2\n",
    "addx -37\n",
    "addx 1\n",
    "addx 3\n",
    "noop\n",
    "addx 15\n",
    "addx -21\n",
    "addx 22\n",
    "addx -6\n",
    "addx 1\n",
    "noop\n",
    "addx 2\n",
    "addx 1\n",
    "noop\n",
    "addx -10\n",
    "noop\n",
    "noop\n",
    "addx 20\n",
    "addx 1\n",
    "addx 2\n",
    "addx 2\n",
    "addx -6\n",
    "addx -11\n",
    "noop\n",
    "noop\n",
    "noop\"\"\""
   ]
  },
  {
   "cell_type": "code",
   "execution_count": 3,
   "id": "66b836de-6568-4e96-a42b-a57c8e9f6b39",
   "metadata": {},
   "outputs": [
    {
     "name": "stdout",
     "output_type": "stream",
     "text": [
      "13140\n",
      "test passed\n"
     ]
    }
   ],
   "source": [
    "def solution1(data):\n",
    "    X = 1\n",
    "    V = 0\n",
    "    cycle = 0\n",
    "    cycle_inc = 0\n",
    "    sol = 0\n",
    "    for line in data.split(\"\\n\"):\n",
    "        words = line.split()\n",
    "        X += V\n",
    "        if words[0] == \"noop\":\n",
    "            #print(\"noop\")\n",
    "            cycle_inc = 1\n",
    "            V = 0\n",
    "        elif words[0] == \"addx\":\n",
    "            #print(\"addx\")\n",
    "            V = int(words[1])        \n",
    "            cycle_inc = 2\n",
    "        for i in range(cycle_inc):\n",
    "            cycle += 1\n",
    "            if (cycle % 40) == 20:\n",
    "                #print(cycle, X)\n",
    "                sol += cycle * X\n",
    "    print(sol)\n",
    "    return sol\n",
    "\n",
    "assert solution1(test_data2) == test_result2\n",
    "print(\"test passed\")"
   ]
  },
  {
   "cell_type": "code",
   "execution_count": 4,
   "id": "f641437e-350d-4f31-897b-2a4a66802749",
   "metadata": {},
   "outputs": [
    {
     "name": "stdout",
     "output_type": "stream",
     "text": [
      "15260\n",
      "test passed\n"
     ]
    }
   ],
   "source": [
    "with open(\"day10.txt\") as f:\n",
    "    inp_data = f.read()\n",
    "\n",
    "assert solution1(inp_data) == 15260\n",
    "print(\"test passed\")"
   ]
  },
  {
   "cell_type": "markdown",
   "id": "ca740981-8b91-47d7-a039-6aca70963b56",
   "metadata": {},
   "source": [
    "## Part 2"
   ]
  },
  {
   "cell_type": "code",
   "execution_count": 5,
   "id": "e8a4d8d8-c348-447c-8234-b87a0c83368f",
   "metadata": {},
   "outputs": [],
   "source": [
    "test_result = \"\"\"\\\n",
    "##..##..##..##..##..##..##..##..##..##..\n",
    "###...###...###...###...###...###...###.\n",
    "####....####....####....####....####....\n",
    "#####.....#####.....#####.....#####.....\n",
    "######......######......######......####\n",
    "#######.......#######.......#######.....\"\"\""
   ]
  },
  {
   "cell_type": "code",
   "execution_count": 6,
   "id": "7e7c4c3e-cace-41d8-bb49-c49602d9a2fe",
   "metadata": {},
   "outputs": [
    {
     "name": "stdout",
     "output_type": "stream",
     "text": [
      "##..##..##..##..##..##..##..##..##..##..\n",
      "###...###...###...###...###...###...###.\n",
      "####....####....####....####....####....\n",
      "#####.....#####.....#####.....#####.....\n",
      "######......######......######......####\n",
      "#######.......#######.......#######.....\n",
      "test passed\n"
     ]
    }
   ],
   "source": [
    "def solution2(data):\n",
    "    X = 1\n",
    "    V = 0\n",
    "    cycle = 0\n",
    "    cycle_inc = 0\n",
    "    screen_width = 40\n",
    "    sol = []\n",
    "    CRT_line = [\".\"]*screen_width\n",
    "    for line in data.split(\"\\n\"):\n",
    "        words = line.split()\n",
    "        X += V\n",
    "        if words[0] == \"noop\":\n",
    "            #print(\"noop\")\n",
    "            cycle_inc = 1\n",
    "            V = 0\n",
    "        elif words[0] == \"addx\":\n",
    "            #print(\"addx\")\n",
    "            V = int(words[1])        \n",
    "            cycle_inc = 2\n",
    "        for i in range(cycle_inc):\n",
    "            pixel_pos = cycle % screen_width\n",
    "            #print(pixel_pos, X)\n",
    "            if X-1 <= pixel_pos <= X+1:\n",
    "                CRT = \"#\"\n",
    "            else:\n",
    "                CRT = \".\"\n",
    "            CRT_line[pixel_pos] = CRT\n",
    "            cycle += 1        \n",
    "            if (cycle % screen_width) == 0:\n",
    "                #print(cycle, X)\n",
    "                sol.append(\"\".join(CRT_line))\n",
    "    \n",
    "    sol = \"\\n\".join(sol)\n",
    "    #for line in sol:\n",
    "    print(sol)\n",
    "    return sol\n",
    "    \n",
    "\n",
    "assert solution2(test_data2) == test_result\n",
    "print(\"test passed\")"
   ]
  },
  {
   "cell_type": "code",
   "execution_count": 7,
   "id": "c9dc82bc-54f7-4530-a845-5372dc71b80f",
   "metadata": {},
   "outputs": [
    {
     "name": "stdout",
     "output_type": "stream",
     "text": [
      "###...##..#..#.####..##..#....#..#..##..\n",
      "#..#.#..#.#..#.#....#..#.#....#..#.#..#.\n",
      "#..#.#....####.###..#....#....#..#.#....\n",
      "###..#.##.#..#.#....#.##.#....#..#.#.##.\n",
      "#....#..#.#..#.#....#..#.#....#..#.#..#.\n",
      "#.....###.#..#.#.....###.####..##...###.\n",
      "test passed\n"
     ]
    }
   ],
   "source": [
    "sol2 = solution2(inp_data)\n",
    "assert sol2 == \"\"\"\\\n",
    "###...##..#..#.####..##..#....#..#..##..\n",
    "#..#.#..#.#..#.#....#..#.#....#..#.#..#.\n",
    "#..#.#....####.###..#....#....#..#.#....\n",
    "###..#.##.#..#.#....#.##.#....#..#.#.##.\n",
    "#....#..#.#..#.#....#..#.#....#..#.#..#.\n",
    "#.....###.#..#.#.....###.####..##...###.\"\"\"\n",
    "# PGHFGLUG\n",
    "print(\"test passed\")"
   ]
  },
  {
   "cell_type": "code",
   "execution_count": null,
   "id": "7959775d-6193-4020-94f4-9651bb951533",
   "metadata": {},
   "outputs": [],
   "source": []
  }
 ],
 "metadata": {
  "kernelspec": {
   "display_name": "Python 3 (ipykernel)",
   "language": "python",
   "name": "python3"
  },
  "language_info": {
   "codemirror_mode": {
    "name": "ipython",
    "version": 3
   },
   "file_extension": ".py",
   "mimetype": "text/x-python",
   "name": "python",
   "nbconvert_exporter": "python",
   "pygments_lexer": "ipython3",
   "version": "3.10.8"
  }
 },
 "nbformat": 4,
 "nbformat_minor": 5
}
