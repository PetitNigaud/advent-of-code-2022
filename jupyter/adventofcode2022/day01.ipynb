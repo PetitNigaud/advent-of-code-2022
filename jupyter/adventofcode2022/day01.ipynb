{
 "cells": [
  {
   "cell_type": "markdown",
   "id": "9672b17f-7a5e-47b5-ab50-6eb82e70f884",
   "metadata": {},
   "source": [
    "# Day 01\n",
    "\n",
    "https://adventofcode.com/2022/day/1\n",
    "\n",
    "## Part 1"
   ]
  },
  {
   "cell_type": "code",
   "execution_count": 1,
   "id": "254ce369-6aeb-4d63-911e-b2cfb6967475",
   "metadata": {},
   "outputs": [
    {
     "data": {
      "text/plain": [
       "'1000\\n2000\\n3000\\n\\n4000\\n\\n5000\\n6000\\n\\n7000\\n8000\\n9000\\n\\n10000\\n'"
      ]
     },
     "execution_count": 1,
     "metadata": {},
     "output_type": "execute_result"
    }
   ],
   "source": [
    "test_result = 24000\n",
    "test_data = \"\"\"\\\n",
    "1000\n",
    "2000\n",
    "3000\n",
    "\n",
    "4000\n",
    "\n",
    "5000\n",
    "6000\n",
    "\n",
    "7000\n",
    "8000\n",
    "9000\n",
    "\n",
    "10000\n",
    "\"\"\"\n",
    "test_data"
   ]
  },
  {
   "cell_type": "code",
   "execution_count": 2,
   "id": "6eaa127c-cc2f-4109-ab8d-e3429d6626d9",
   "metadata": {},
   "outputs": [
    {
     "data": {
      "text/plain": [
       "['1000\\n2000\\n3000', '4000', '5000\\n6000', '7000\\n8000\\n9000', '10000\\n']"
      ]
     },
     "execution_count": 2,
     "metadata": {},
     "output_type": "execute_result"
    }
   ],
   "source": [
    "test_data.split(\"\\n\\n\")"
   ]
  },
  {
   "cell_type": "code",
   "execution_count": 3,
   "id": "d30e8b4e-4c42-4839-8368-44f2ab49512a",
   "metadata": {},
   "outputs": [],
   "source": [
    "def cals_per_elf(data):\n",
    "    elves = []\n",
    "    for sub_data in data.split(\"\\n\\n\"):\n",
    "        _sum = 0\n",
    "        for _val in sub_data.splitlines():\n",
    "            _sum += int(_val)\n",
    "        elves.append(_sum)\n",
    "    return elves"
   ]
  },
  {
   "cell_type": "code",
   "execution_count": 4,
   "id": "1532bf8e-0734-48e2-9c1e-d18e88d91a70",
   "metadata": {},
   "outputs": [
    {
     "name": "stdout",
     "output_type": "stream",
     "text": [
      "test passed\n"
     ]
    }
   ],
   "source": [
    "def solution1(data):\n",
    "    elves = cals_per_elf(data)\n",
    "    return max(elves)\n",
    "\n",
    "assert solution1(test_data) == test_result\n",
    "print(\"test passed\")"
   ]
  },
  {
   "cell_type": "code",
   "execution_count": 5,
   "id": "f641437e-350d-4f31-897b-2a4a66802749",
   "metadata": {},
   "outputs": [
    {
     "data": {
      "text/plain": [
       "66616"
      ]
     },
     "execution_count": 5,
     "metadata": {},
     "output_type": "execute_result"
    }
   ],
   "source": [
    "with open(\"day01.txt\") as f:\n",
    "    inp_data = f.read()\n",
    "solution1(inp_data)"
   ]
  },
  {
   "cell_type": "markdown",
   "id": "ca740981-8b91-47d7-a039-6aca70963b56",
   "metadata": {},
   "source": [
    "## Part 2"
   ]
  },
  {
   "cell_type": "code",
   "execution_count": 6,
   "id": "0795466b-331c-496d-ac98-5d2218e8ebbc",
   "metadata": {},
   "outputs": [],
   "source": [
    "test_result2 = 45000"
   ]
  },
  {
   "cell_type": "code",
   "execution_count": 7,
   "id": "a618aab6-605c-4d9d-81d6-cd90a8c8cf41",
   "metadata": {},
   "outputs": [
    {
     "name": "stdout",
     "output_type": "stream",
     "text": [
      "test passed\n"
     ]
    }
   ],
   "source": [
    "def solution2(data):\n",
    "    elves = cals_per_elf(data)\n",
    "    elves.sort()\n",
    "    top3 = elves[-3:]\n",
    "        \n",
    "    return sum(top3)\n",
    "\n",
    "\n",
    "assert solution2(test_data) == test_result2\n",
    "print(\"test passed\")"
   ]
  },
  {
   "cell_type": "code",
   "execution_count": 8,
   "id": "f9b7d4c7-f7dd-4b93-8bc5-f33c1a5bcabe",
   "metadata": {},
   "outputs": [
    {
     "data": {
      "text/plain": [
       "199172"
      ]
     },
     "execution_count": 8,
     "metadata": {},
     "output_type": "execute_result"
    }
   ],
   "source": [
    "with open(\"day01.txt\") as f:\n",
    "    inp_data = f.read()\n",
    "solution2(inp_data)"
   ]
  },
  {
   "cell_type": "code",
   "execution_count": null,
   "id": "4cf35daa-aa0c-402a-ae8a-9ccc00568276",
   "metadata": {},
   "outputs": [],
   "source": []
  },
  {
   "cell_type": "code",
   "execution_count": null,
   "id": "6864f218-a2a5-4b3f-9057-2c81c2247072",
   "metadata": {},
   "outputs": [],
   "source": []
  }
 ],
 "metadata": {
  "kernelspec": {
   "display_name": "Python 3 (ipykernel)",
   "language": "python",
   "name": "python3"
  },
  "language_info": {
   "codemirror_mode": {
    "name": "ipython",
    "version": 3
   },
   "file_extension": ".py",
   "mimetype": "text/x-python",
   "name": "python",
   "nbconvert_exporter": "python",
   "pygments_lexer": "ipython3",
   "version": "3.10.8"
  }
 },
 "nbformat": 4,
 "nbformat_minor": 5
}
