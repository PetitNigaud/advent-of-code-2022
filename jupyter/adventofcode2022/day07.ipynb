{
 "cells": [
  {
   "cell_type": "markdown",
   "id": "9672b17f-7a5e-47b5-ab50-6eb82e70f884",
   "metadata": {},
   "source": [
    "# Day 07\n",
    "\n",
    "https://adventofcode.com/2022/day/7\n",
    "\n",
    "\n",
    "largeley \"inspired\" by [solution of jonathanpaulson](https://github.com/jonathanpaulson/AdventOfCode/blob/master/2022/7.py)\n",
    "\n",
    "## Part 1"
   ]
  },
  {
   "cell_type": "code",
   "execution_count": 1,
   "id": "254ce369-6aeb-4d63-911e-b2cfb6967475",
   "metadata": {},
   "outputs": [
    {
     "data": {
      "text/plain": [
       "'$ cd /\\n$ ls\\ndir a\\n14848514 b.txt\\n8504156 c.dat\\ndir d\\n$ cd a\\n$ ls\\ndir e\\n29116 f\\n2557 g\\n62596 h.lst\\n$ cd e\\n$ ls\\n584 i\\n$ cd ..\\n$ cd ..\\n$ cd d\\n$ ls\\n4060174 j\\n8033020 d.log\\n5626152 d.ext\\n7214296 k'"
      ]
     },
     "execution_count": 1,
     "metadata": {},
     "output_type": "execute_result"
    }
   ],
   "source": [
    "test_result = 95437\n",
    "test_data = \"\"\"\\\n",
    "$ cd /\n",
    "$ ls\n",
    "dir a\n",
    "14848514 b.txt\n",
    "8504156 c.dat\n",
    "dir d\n",
    "$ cd a\n",
    "$ ls\n",
    "dir e\n",
    "29116 f\n",
    "2557 g\n",
    "62596 h.lst\n",
    "$ cd e\n",
    "$ ls\n",
    "584 i\n",
    "$ cd ..\n",
    "$ cd ..\n",
    "$ cd d\n",
    "$ ls\n",
    "4060174 j\n",
    "8033020 d.log\n",
    "5626152 d.ext\n",
    "7214296 k\"\"\"\n",
    "test_data"
   ]
  },
  {
   "cell_type": "code",
   "execution_count": 2,
   "id": "6eaa127c-cc2f-4109-ab8d-e3429d6626d9",
   "metadata": {},
   "outputs": [
    {
     "data": {
      "text/plain": [
       "['$ cd /',\n",
       " '$ ls',\n",
       " 'dir a',\n",
       " '14848514 b.txt',\n",
       " '8504156 c.dat',\n",
       " 'dir d',\n",
       " '$ cd a',\n",
       " '$ ls',\n",
       " 'dir e',\n",
       " '29116 f',\n",
       " '2557 g',\n",
       " '62596 h.lst',\n",
       " '$ cd e',\n",
       " '$ ls',\n",
       " '584 i',\n",
       " '$ cd ..',\n",
       " '$ cd ..',\n",
       " '$ cd d',\n",
       " '$ ls',\n",
       " '4060174 j',\n",
       " '8033020 d.log',\n",
       " '5626152 d.ext',\n",
       " '7214296 k']"
      ]
     },
     "execution_count": 2,
     "metadata": {},
     "output_type": "execute_result"
    }
   ],
   "source": [
    "test_data.splitlines()"
   ]
  },
  {
   "cell_type": "code",
   "execution_count": 3,
   "id": "712b127c-c0b2-4536-92be-5362ee2faf23",
   "metadata": {},
   "outputs": [
    {
     "data": {
      "text/plain": [
       "defaultdict(int,\n",
       "            {('root',): 48381165,\n",
       "             ('root', 'a'): 94853,\n",
       "             ('root', 'a', 'e'): 584,\n",
       "             ('root', 'd'): 24933642})"
      ]
     },
     "execution_count": 3,
     "metadata": {},
     "output_type": "execute_result"
    }
   ],
   "source": [
    "from collections import defaultdict\n",
    "\n",
    "def build_tree(data):\n",
    "    lines = data.splitlines()\n",
    "\n",
    "    # do not need to check and initiate if keyword does not yet exist and init value to 0\n",
    "    tree = defaultdict(int)\n",
    "    # keep track off current path\n",
    "    current_path = []\n",
    "    for line in lines:\n",
    "        words = line.split()\n",
    "        # detect commands\n",
    "        if words[0] == \"$\":   \n",
    "            if words[1] == \"cd\":            \n",
    "                dst = words[2]\n",
    "                if dst == \"/\":\n",
    "                    current_path = [\"root\"]\n",
    "                elif dst == \"..\":\n",
    "                    current_path.pop()\n",
    "                else:\n",
    "                    current_path.append(dst)\n",
    "                #print(f\"current path: {path}\")\n",
    "        elif words[0] == \"dir\":  # ignore directories after \"ls\" command\n",
    "            pass\n",
    "        else: # everything else are files with size as 1st word\n",
    "            _size = int(words[0])           \n",
    "            # add size to all parent dirs\n",
    "            for i in range(1, len(current_path)+1):\n",
    "                #print(current_path[:i])\n",
    "                tree[tuple(current_path[:i])] += _size\n",
    "    return tree\n",
    "\n",
    "tree = build_tree(test_data)\n",
    "tree"
   ]
  },
  {
   "cell_type": "code",
   "execution_count": 4,
   "id": "4298d13b-e244-4b9b-bc92-89fd024daebd",
   "metadata": {},
   "outputs": [
    {
     "name": "stdout",
     "output_type": "stream",
     "text": [
      "test passed\n"
     ]
    }
   ],
   "source": [
    "max_size = 100000\n",
    "def solution1(data):\n",
    "    tree = build_tree(data)\n",
    "    sol = 0\n",
    "    for k, v in tree.items():\n",
    "        if v <= max_size:\n",
    "            sol += v\n",
    "    return sol\n",
    "\n",
    "assert solution1(test_data) == test_result\n",
    "\n",
    "print(\"test passed\")"
   ]
  },
  {
   "cell_type": "code",
   "execution_count": 5,
   "id": "f641437e-350d-4f31-897b-2a4a66802749",
   "metadata": {},
   "outputs": [
    {
     "name": "stdout",
     "output_type": "stream",
     "text": [
      "1749646\n",
      "test passed\n"
     ]
    }
   ],
   "source": [
    "with open(\"day07.txt\") as f:\n",
    "    inp_data = f.read()\n",
    "sol1 = solution1(inp_data)\n",
    "print(sol1)\n",
    "assert sol1 == 1749646\n",
    "print(\"test passed\")"
   ]
  },
  {
   "cell_type": "markdown",
   "id": "ca740981-8b91-47d7-a039-6aca70963b56",
   "metadata": {},
   "source": [
    "## Part 2"
   ]
  },
  {
   "cell_type": "code",
   "execution_count": 6,
   "id": "679bd3eb-fd0d-4241-8cf7-56d4a6f78316",
   "metadata": {},
   "outputs": [],
   "source": [
    "test_result = 24933642"
   ]
  },
  {
   "cell_type": "code",
   "execution_count": 7,
   "id": "7e7c4c3e-cace-41d8-bb49-c49602d9a2fe",
   "metadata": {},
   "outputs": [
    {
     "name": "stdout",
     "output_type": "stream",
     "text": [
      "24933642\n",
      "test passed\n"
     ]
    }
   ],
   "source": [
    "space_total = 70000000\n",
    "space_required = 30000000\n",
    "\n",
    "tree = build_tree(test_data)\n",
    "\n",
    "space_used = tree[('root',)]\n",
    "assert space_used == 48381165\n",
    "\n",
    "space_2free = space_required - (space_total - space_used)\n",
    "\n",
    "assert space_2free == 8381165\n",
    "\n",
    "sol2 = space_total\n",
    "\n",
    "for k, v in tree.items():\n",
    "    if v >= space_2free:\n",
    "        sol2 = min(sol2, v)\n",
    "print(sol2)\n",
    "assert sol2 == test_result\n",
    "print(\"test passed\")"
   ]
  },
  {
   "cell_type": "code",
   "execution_count": 8,
   "id": "9f539c26-e38f-44e6-a53d-def957c9caa3",
   "metadata": {},
   "outputs": [
    {
     "name": "stdout",
     "output_type": "stream",
     "text": [
      "24933642\n",
      "test passed\n"
     ]
    }
   ],
   "source": [
    "def solution2(data):\n",
    "    tree = build_tree(data)\n",
    "\n",
    "    space_used = tree[('root',)]\n",
    "\n",
    "    space_2free = space_required - (space_total - space_used)\n",
    "\n",
    "    sol = space_total\n",
    "\n",
    "    for k, v in tree.items():\n",
    "        if v >= space_2free:\n",
    "            sol = min(sol, v)\n",
    "    return sol\n",
    "\n",
    "sol2 = solution2(test_data)\n",
    "print(sol2)\n",
    "assert sol2 == test_result\n",
    "print(\"test passed\")"
   ]
  },
  {
   "cell_type": "code",
   "execution_count": 9,
   "id": "c9dc82bc-54f7-4530-a845-5372dc71b80f",
   "metadata": {},
   "outputs": [
    {
     "name": "stdout",
     "output_type": "stream",
     "text": [
      "1498966\n",
      "test passed\n"
     ]
    }
   ],
   "source": [
    "sol2 = solution2(inp_data)\n",
    "print(sol2)\n",
    "assert sol2 == 1498966\n",
    "print(\"test passed\")"
   ]
  },
  {
   "cell_type": "code",
   "execution_count": null,
   "id": "f512e190-8766-4ccb-b5c8-bc41c2ea0163",
   "metadata": {},
   "outputs": [],
   "source": []
  }
 ],
 "metadata": {
  "kernelspec": {
   "display_name": "Python 3 (ipykernel)",
   "language": "python",
   "name": "python3"
  },
  "language_info": {
   "codemirror_mode": {
    "name": "ipython",
    "version": 3
   },
   "file_extension": ".py",
   "mimetype": "text/x-python",
   "name": "python",
   "nbconvert_exporter": "python",
   "pygments_lexer": "ipython3",
   "version": "3.10.8"
  }
 },
 "nbformat": 4,
 "nbformat_minor": 5
}
