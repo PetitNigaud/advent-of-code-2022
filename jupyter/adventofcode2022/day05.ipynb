{
 "cells": [
  {
   "cell_type": "markdown",
   "id": "9672b17f-7a5e-47b5-ab50-6eb82e70f884",
   "metadata": {},
   "source": [
    "# Day 05\n",
    "\n",
    "https://adventofcode.com/2022/day/5\n",
    "\n",
    "## Part 1"
   ]
  },
  {
   "cell_type": "code",
   "execution_count": 1,
   "id": "254ce369-6aeb-4d63-911e-b2cfb6967475",
   "metadata": {},
   "outputs": [
    {
     "data": {
      "text/plain": [
       "'    [D]    \\n[N] [C]    \\n[Z] [M] [P]\\n 1   2   3 \\n\\nmove 1 from 2 to 1\\nmove 3 from 1 to 3\\nmove 2 from 2 to 1\\nmove 1 from 1 to 2\\n'"
      ]
     },
     "execution_count": 1,
     "metadata": {},
     "output_type": "execute_result"
    }
   ],
   "source": [
    "test_result = \"CMZ\"\n",
    "test_data = \"\"\"\\\n",
    "    [D]    \n",
    "[N] [C]    \n",
    "[Z] [M] [P]\n",
    " 1   2   3 \n",
    "\n",
    "move 1 from 2 to 1\n",
    "move 3 from 1 to 3\n",
    "move 2 from 2 to 1\n",
    "move 1 from 1 to 2\n",
    "\"\"\"\n",
    "test_data"
   ]
  },
  {
   "cell_type": "code",
   "execution_count": 2,
   "id": "6eaa127c-cc2f-4109-ab8d-e3429d6626d9",
   "metadata": {},
   "outputs": [
    {
     "data": {
      "text/plain": [
       "['    [D]    ',\n",
       " '[N] [C]    ',\n",
       " '[Z] [M] [P]',\n",
       " ' 1   2   3 ',\n",
       " '',\n",
       " 'move 1 from 2 to 1',\n",
       " 'move 3 from 1 to 3',\n",
       " 'move 2 from 2 to 1',\n",
       " 'move 1 from 1 to 2']"
      ]
     },
     "execution_count": 2,
     "metadata": {},
     "output_type": "execute_result"
    }
   ],
   "source": [
    "test_data.splitlines()"
   ]
  },
  {
   "cell_type": "code",
   "execution_count": 3,
   "id": "4cc557f3-d3d0-4dc0-bd80-01cb09f98b9f",
   "metadata": {},
   "outputs": [
    {
     "name": "stdout",
     "output_type": "stream",
     "text": [
      "test passed\n"
     ]
    }
   ],
   "source": [
    "def solution1(data):\n",
    "    # Split initial state of crates and instructions\n",
    "    c, i = data.split(\"\\n\\n\")\n",
    "\n",
    "    c = c.splitlines()\n",
    "    # each pile has 3 columns + 1 whitespace between\n",
    "    nr_crates = (len(c[0]) + 1) // 4\n",
    "    # use string as pile\n",
    "    crates = [\"\"] * nr_crates\n",
    "    \n",
    "    # fill crates with initial state\n",
    "    for l in c[-2::-1]: # start from bottom, last is just crate nr \n",
    "        for _i, s in enumerate(l[1::4]):\n",
    "            if not s == \" \":\n",
    "                crates[_i] += s\n",
    "    \n",
    "    # process instructions\n",
    "    for l in i.splitlines():\n",
    "        # get numbers from instructions\n",
    "        _l = l.split()\n",
    "        nr = int(_l[1])       # nr of crates to move\n",
    "        src = int(_l[3]) - 1  # source crate\n",
    "        dst = int(l[-1]) - 1  # destination crate\n",
    "        # add in reversed order to dst\n",
    "        crates[dst] += crates[src][-nr:][::-1]\n",
    "        # remove from src\n",
    "        crates[src] = crates[src][:-nr]\n",
    "    \n",
    "    # solution: get all upper items    \n",
    "    sol = \"\".join(s[-1] for s in crates)\n",
    "    return sol\n",
    "\n",
    "assert solution1(test_data) == test_result\n",
    "print(\"test passed\")"
   ]
  },
  {
   "cell_type": "code",
   "execution_count": 4,
   "id": "f641437e-350d-4f31-897b-2a4a66802749",
   "metadata": {},
   "outputs": [
    {
     "name": "stdout",
     "output_type": "stream",
     "text": [
      "CWMTGHBDW\n",
      "test passed\n"
     ]
    }
   ],
   "source": [
    "with open(\"day05.txt\") as f:\n",
    "    inp_data = f.read()\n",
    "sol1 = solution1(inp_data)\n",
    "print(sol1)\n",
    "assert sol1 == \"CWMTGHBDW\"\n",
    "print(\"test passed\")"
   ]
  },
  {
   "cell_type": "markdown",
   "id": "ca740981-8b91-47d7-a039-6aca70963b56",
   "metadata": {},
   "source": [
    "## Part 2"
   ]
  },
  {
   "cell_type": "code",
   "execution_count": 5,
   "id": "0795466b-331c-496d-ac98-5d2218e8ebbc",
   "metadata": {},
   "outputs": [],
   "source": [
    "test_result2 = \"MCD\""
   ]
  },
  {
   "cell_type": "code",
   "execution_count": 6,
   "id": "7e7c4c3e-cace-41d8-bb49-c49602d9a2fe",
   "metadata": {},
   "outputs": [
    {
     "name": "stdout",
     "output_type": "stream",
     "text": [
      "test passed\n"
     ]
    }
   ],
   "source": [
    "# almost same as solution 1, just not reverse order of replaced items\n",
    "def solution2(data):\n",
    "\n",
    "    c, i = data.split(\"\\n\\n\")\n",
    "\n",
    "    c = c.splitlines()\n",
    "    nr_crates = (len(c[0]) + 1) // 4\n",
    "    crates = [\"\"] * nr_crates\n",
    "    for l in c[-2::-1]:\n",
    "        #print(l)\n",
    "        for _i, s in enumerate(l[1::4]):\n",
    "            if not s == \" \":\n",
    "                crates[_i] += s\n",
    "\n",
    "    #print(crates)\n",
    "    for l in i.splitlines():\n",
    "        #print(l)\n",
    "        _l = l.split()\n",
    "        nr = int(_l[1])\n",
    "        src = int(_l[3]) - 1\n",
    "        dst = int(l[-1]) - 1\n",
    "        crates[dst] += crates[src][-nr:]\n",
    "        crates[src] = crates[src][:-nr]\n",
    "        #print(crates)\n",
    "    sol = \"\".join(s[-1] for s in crates)\n",
    "    return sol\n",
    "    \n",
    "assert solution2(test_data) == test_result2\n",
    "print(\"test passed\")"
   ]
  },
  {
   "cell_type": "code",
   "execution_count": 7,
   "id": "a618aab6-605c-4d9d-81d6-cd90a8c8cf41",
   "metadata": {},
   "outputs": [
    {
     "name": "stdout",
     "output_type": "stream",
     "text": [
      "SSCGWJCRB\n",
      "test passed\n"
     ]
    }
   ],
   "source": [
    "sol2 = solution2(inp_data)\n",
    "print(sol2)\n",
    "assert sol2 == \"SSCGWJCRB\"\n",
    "print(\"test passed\")"
   ]
  },
  {
   "cell_type": "code",
   "execution_count": null,
   "id": "7da827c8-b655-4928-9be1-b1046336625c",
   "metadata": {},
   "outputs": [],
   "source": []
  }
 ],
 "metadata": {
  "kernelspec": {
   "display_name": "Python 3 (ipykernel)",
   "language": "python",
   "name": "python3"
  },
  "language_info": {
   "codemirror_mode": {
    "name": "ipython",
    "version": 3
   },
   "file_extension": ".py",
   "mimetype": "text/x-python",
   "name": "python",
   "nbconvert_exporter": "python",
   "pygments_lexer": "ipython3",
   "version": "3.10.8"
  }
 },
 "nbformat": 4,
 "nbformat_minor": 5
}
