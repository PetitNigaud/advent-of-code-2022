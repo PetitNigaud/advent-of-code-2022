{
 "cells": [
  {
   "cell_type": "markdown",
   "id": "9672b17f-7a5e-47b5-ab50-6eb82e70f884",
   "metadata": {},
   "source": [
    "# Day 15\n",
    "\n",
    "https://adventofcode.com/2022/day/15\n",
    "\n",
    "\n",
    "## Part 1"
   ]
  },
  {
   "cell_type": "code",
   "execution_count": 1,
   "id": "254ce369-6aeb-4d63-911e-b2cfb6967475",
   "metadata": {},
   "outputs": [
    {
     "data": {
      "text/plain": [
       "'Sensor at x=2, y=18: closest beacon is at x=-2, y=15\\nSensor at x=9, y=16: closest beacon is at x=10, y=16\\nSensor at x=13, y=2: closest beacon is at x=15, y=3\\nSensor at x=12, y=14: closest beacon is at x=10, y=16\\nSensor at x=10, y=20: closest beacon is at x=10, y=16\\nSensor at x=14, y=17: closest beacon is at x=10, y=16\\nSensor at x=8, y=7: closest beacon is at x=2, y=10\\nSensor at x=2, y=0: closest beacon is at x=2, y=10\\nSensor at x=0, y=11: closest beacon is at x=2, y=10\\nSensor at x=20, y=14: closest beacon is at x=25, y=17\\nSensor at x=17, y=20: closest beacon is at x=21, y=22\\nSensor at x=16, y=7: closest beacon is at x=15, y=3\\nSensor at x=14, y=3: closest beacon is at x=15, y=3\\nSensor at x=20, y=1: closest beacon is at x=15, y=3'"
      ]
     },
     "execution_count": 1,
     "metadata": {},
     "output_type": "execute_result"
    }
   ],
   "source": [
    "test_data = \"\"\"\\\n",
    "Sensor at x=2, y=18: closest beacon is at x=-2, y=15\n",
    "Sensor at x=9, y=16: closest beacon is at x=10, y=16\n",
    "Sensor at x=13, y=2: closest beacon is at x=15, y=3\n",
    "Sensor at x=12, y=14: closest beacon is at x=10, y=16\n",
    "Sensor at x=10, y=20: closest beacon is at x=10, y=16\n",
    "Sensor at x=14, y=17: closest beacon is at x=10, y=16\n",
    "Sensor at x=8, y=7: closest beacon is at x=2, y=10\n",
    "Sensor at x=2, y=0: closest beacon is at x=2, y=10\n",
    "Sensor at x=0, y=11: closest beacon is at x=2, y=10\n",
    "Sensor at x=20, y=14: closest beacon is at x=25, y=17\n",
    "Sensor at x=17, y=20: closest beacon is at x=21, y=22\n",
    "Sensor at x=16, y=7: closest beacon is at x=15, y=3\n",
    "Sensor at x=14, y=3: closest beacon is at x=15, y=3\n",
    "Sensor at x=20, y=1: closest beacon is at x=15, y=3\"\"\"\n",
    "test_data"
   ]
  },
  {
   "cell_type": "code",
   "execution_count": 2,
   "id": "360db8e5-64ec-46a4-a261-9f949d5aab4c",
   "metadata": {},
   "outputs": [],
   "source": [
    "#import plotly.graph_objects as go\n",
    "#import numpy as np"
   ]
  },
  {
   "cell_type": "code",
   "execution_count": 3,
   "id": "1accce30-7098-4162-a73a-665be729c97a",
   "metadata": {},
   "outputs": [
    {
     "name": "stdout",
     "output_type": "stream",
     "text": [
      "Result: 26\n",
      "test passed\n"
     ]
    }
   ],
   "source": [
    "def parse_xy(s: str):\n",
    "    kw = \"at x=\"\n",
    "    idx = s.find(kw) + len(kw)\n",
    "    x, y = s[idx:].split(\", \")\n",
    "    x = int(x)\n",
    "    y = int(y[2:])\n",
    "    return x, y\n",
    "\n",
    "def calc_dist(coord0: (int, int), coord1: (int, int)):\n",
    "    return abs(coord0[0] - coord1[0]) + abs(coord0[1] - coord1[1])\n",
    "    \n",
    "\n",
    "def solution1(data: str, target: int):\n",
    "    no_beacon = set()\n",
    "    beacons = set()\n",
    "\n",
    "    for line in data.split(\"\\n\"):\n",
    "        try: \n",
    "            sensor, beacon = [parse_xy(s) for s in line.split(\":\")]\n",
    "        except Exception as e:\n",
    "            print(line)\n",
    "            raise e\n",
    "        if beacon[1] == target:\n",
    "            beacons.add(beacon[0])\n",
    "        dist = calc_dist(sensor, beacon)\n",
    "        dist_target = calc_dist(sensor, (sensor[0], target))\n",
    "        if dist - dist_target >= 0:\n",
    "            #print(sensor, beacon, dist, dist_target)\n",
    "            _d = 0\n",
    "            while True:\n",
    "                x0 = sensor[0] + _d\n",
    "                x1 = sensor[0] - _d\n",
    "                if calc_dist(sensor, (x0, target)) <= dist:\n",
    "                    no_beacon.add(x0)\n",
    "                    no_beacon.add(x1)\n",
    "                else:\n",
    "                    break\n",
    "                _d += 1\n",
    "\n",
    "    #print(no_beacon)\n",
    "    #print(beacons)\n",
    "    sol1 = no_beacon - beacons\n",
    "    #print(sol1)\n",
    "    sol1 = len(sol1)\n",
    "    print(\"Result:\", sol1)\n",
    "    return sol1\n",
    "    \n",
    "target = 10\n",
    "sol1 = solution1(test_data, target)\n",
    "assert sol1 == 26\n",
    "print(\"test passed\")"
   ]
  },
  {
   "cell_type": "code",
   "execution_count": 4,
   "id": "f641437e-350d-4f31-897b-2a4a66802749",
   "metadata": {},
   "outputs": [
    {
     "name": "stdout",
     "output_type": "stream",
     "text": [
      "Result: 5073496\n",
      "test passed\n"
     ]
    }
   ],
   "source": [
    "with open(\"day15.txt\") as f:\n",
    "    inp_data = f.read()\n",
    "\n",
    "target = 2000000\n",
    "sol1 = solution1(inp_data, target)\n",
    "assert sol1 == 5073496\n",
    "print(\"test passed\")"
   ]
  },
  {
   "cell_type": "markdown",
   "id": "ca740981-8b91-47d7-a039-6aca70963b56",
   "metadata": {},
   "source": [
    "## Part 2"
   ]
  },
  {
   "cell_type": "code",
   "execution_count": 5,
   "id": "7e7c4c3e-cace-41d8-bb49-c49602d9a2fe",
   "metadata": {},
   "outputs": [
    {
     "name": "stdout",
     "output_type": "stream",
     "text": [
      "found the spot at (14, 11) Solution= 56000011\n",
      "test passed\n"
     ]
    }
   ],
   "source": [
    "def solution2(data: str, x_max: int, y_max: int):\n",
    "    measurements = []\n",
    "\n",
    "    for line in data.split(\"\\n\"):\n",
    "        try: \n",
    "            sensor, beacon = [parse_xy(s) for s in line.split(\":\")]\n",
    "        except Exception as e:\n",
    "            print(line)\n",
    "            raise e        \n",
    "        dist = calc_dist(sensor, beacon)\n",
    "        measurements.append([sensor, dist])\n",
    "\n",
    "    searched = set()\n",
    "    for sensor, dist in measurements:\n",
    "        x0, y0 = sensor\n",
    "        radius = dist + 1\n",
    "        #print(\"Searching at\", (x0, y0), \"with radius\", radius)\n",
    "        detected = False\n",
    "        for dx in range(radius + 1):\n",
    "            dy = radius - dx\n",
    "            for sgn_x, sgn_y in [(-1, -1), (1, -1), (-1, 1), (1, 1)]:\n",
    "                x1 = x0 + sgn_x * dx        \n",
    "                y1 = y0 + sgn_y * dy            \n",
    "                if not (0 <= x1 <= x_max and 0 <= y1 <= y_max):\n",
    "                    continue\n",
    "                if (x1, y1) in searched:\n",
    "                    continue\n",
    "                    \n",
    "\n",
    "                #print((x1, y1), (sgn_x * dx, sgn_y * dy), calc_dist(sensor, (x1, y1)))\n",
    "                #assert calc_dist(sensor, (x1, y1)) == radius\n",
    "\n",
    "                for _sensor, _dist in measurements:\n",
    "                    if _sensor == sensor:\n",
    "                        continue\n",
    "                    if calc_dist(_sensor, (x1, y1)) <= _dist:\n",
    "                        detected = True\n",
    "                        searched.add((x1, y1))\n",
    "                        break\n",
    "                if not detected:\n",
    "                    sol2 = x1 * 4000000 + y1\n",
    "                    print(\"found the spot at\", (x1, y1), \"Solution=\", sol2)\n",
    "                    return sol2\n",
    "                        \n",
    "\n",
    "sol2 = solution2(test_data, 20, 20)\n",
    "\n",
    "assert sol2 == 56000011\n",
    "print(\"test passed\")"
   ]
  },
  {
   "cell_type": "markdown",
   "id": "3d1cc954-6018-47c7-870d-1d0e11b9d5c7",
   "metadata": {},
   "source": [
    "## New solution for part 2 (did not finish with 1st)\n",
    "\n",
    "[Inspiration from William Y. Feng](https://www.youtube.com/watch?v=w7m48_uCvWI) [Github](https://github.com/womogenes/AoC-2022-Solutions/blob/main/day_15/day_15_p2.py)\n",
    "\n",
    "But new solution fails for test data as there is more than one point.."
   ]
  },
  {
   "cell_type": "code",
   "execution_count": 6,
   "id": "0af79e5e-5acb-43a6-84ce-c9068e114214",
   "metadata": {},
   "outputs": [
    {
     "name": "stdout",
     "output_type": "stream",
     "text": [
      "found beacon at: (3270298, 2638237)\n",
      "Result: 13081194638237\n",
      "test passed\n"
     ]
    }
   ],
   "source": [
    "def solution2(data, lim):\n",
    "    measurements = []\n",
    "    for line in data.split(\"\\n\"):\n",
    "        try: \n",
    "            sensor, beacon = [parse_xy(s) for s in line.split(\":\")]\n",
    "        except Exception as e:\n",
    "            print(line)\n",
    "            raise e        \n",
    "        dist = calc_dist(sensor, beacon)\n",
    "        measurements.append([sensor, dist])\n",
    "\n",
    "    for i1, sensor1 in enumerate(measurements):\n",
    "        (x1, y1), dist1 = sensor1      \n",
    "        # offset n for diagonal line with slope m=1 through sensor y = x + pos1\n",
    "        pos1 = y1 - x1\n",
    "        # offset n diagonal line with slope m=-1 through sensor y = x + neg1\n",
    "        neg1 = y1 + x1 \n",
    "        for i2, sensor2 in enumerate(measurements[i1+1:]):\n",
    "            (x2, y2), dist2 = sensor2\n",
    "            pos2 = y2 - x2\n",
    "            neg2 = y2 + x2\n",
    "\n",
    "            # check if borders are exactly 2 apart\n",
    "            if abs(pos2 - pos1) == dist1 + dist2 + 2:\n",
    "                # offset of that line between the two borders\n",
    "                if pos1 > pos2:\n",
    "                    pos = pos1 - dist1 - 1\n",
    "                else:\n",
    "                    pos = pos1 + dist1 + 1\n",
    "\n",
    "            # same for above\n",
    "            if abs(neg2 - neg1) == dist1 + dist2 + 2:\n",
    "                if neg1 > neg2:\n",
    "                    neg = neg1 - dist1 - 1\n",
    "                else:\n",
    "                    neg = neg1 + dist1 + 1\n",
    "\n",
    "    # get coordinates of interception of the 2 lines\n",
    "    x = (neg - pos) // 2\n",
    "    y = x + pos\n",
    "    assert (x <= lim) and (y <= lim)\n",
    "    sol2 = x * 4000000 + y\n",
    "    print(\"found beacon at:\", (x, y))\n",
    "    print(\"Result:\", sol2)\n",
    "    return sol2\n",
    "\n",
    "lim = 4000000\n",
    "sol2 = solution2(inp_data, lim)\n",
    "assert sol2 == 13081194638237\n",
    "print(\"test passed\")"
   ]
  },
  {
   "cell_type": "code",
   "execution_count": null,
   "id": "d8fd5388-f0e3-438e-84d8-42e39f994d38",
   "metadata": {},
   "outputs": [],
   "source": [
    "\n"
   ]
  },
  {
   "cell_type": "code",
   "execution_count": null,
   "id": "8ea05dee-c647-4d09-a9f6-7f3d9f8b2cc2",
   "metadata": {},
   "outputs": [],
   "source": []
  }
 ],
 "metadata": {
  "kernelspec": {
   "display_name": "Python 3 (ipykernel)",
   "language": "python",
   "name": "python3"
  },
  "language_info": {
   "codemirror_mode": {
    "name": "ipython",
    "version": 3
   },
   "file_extension": ".py",
   "mimetype": "text/x-python",
   "name": "python",
   "nbconvert_exporter": "python",
   "pygments_lexer": "ipython3",
   "version": "3.10.8"
  }
 },
 "nbformat": 4,
 "nbformat_minor": 5
}
