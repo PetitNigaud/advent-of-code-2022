{
 "cells": [
  {
   "cell_type": "markdown",
   "id": "9672b17f-7a5e-47b5-ab50-6eb82e70f884",
   "metadata": {},
   "source": [
    "# Day 17\n",
    "\n",
    "https://adventofcode.com/2022/day/17\n",
    "\n",
    "Used these 2 sources to find solution. Part II was much harder. Hyper-Neutrino used a maybe more elegant way for rock movement and collision detection by using imaginary numbers. Otherwise both solutions are very similar. \n",
    "\n",
    "https://github.com/jonathanpaulson/AdventOfCode/blob/master/2022/17.py\n",
    "\n",
    "https://github.com/hyper-neutrino/advent-of-code/blob/main/2022/day17p2.py\n",
    "\n",
    "## Part 1"
   ]
  },
  {
   "cell_type": "code",
   "execution_count": 1,
   "id": "254ce369-6aeb-4d63-911e-b2cfb6967475",
   "metadata": {},
   "outputs": [
    {
     "data": {
      "text/plain": [
       "'>>><<><>><<<>><>>><<<>>><<<><<<>><>><<>>'"
      ]
     },
     "execution_count": 1,
     "metadata": {},
     "output_type": "execute_result"
    }
   ],
   "source": [
    "test_data = \"\"\"\\\n",
    ">>><<><>><<<>><>>><<<>>><<<><<<>><>><<>>\"\"\"\n",
    "test_data"
   ]
  },
  {
   "cell_type": "code",
   "execution_count": 2,
   "id": "b4da5e6e-d0de-443e-b9a7-e7d57698e60d",
   "metadata": {},
   "outputs": [
    {
     "name": "stdout",
     "output_type": "stream",
     "text": [
      "Solution: 3068\n",
      "test passed\n"
     ]
    }
   ],
   "source": [
    "def get_shape(idx, y):\n",
    "    idx = idx % 5\n",
    "    # ..++++.\n",
    "    if idx == 0: \n",
    "        return [(i+2, y) for i in range(4)]\n",
    "    # ...+...\n",
    "    # ..+++..\n",
    "    # ...+...\n",
    "    elif idx == 1: \n",
    "        return [(3, y+2), (3, y)] + [(i+2, y+1) for i in range(3)]\n",
    "    # ....+..\n",
    "    # ....+..\n",
    "    # ..+++..\n",
    "    elif idx == 2:\n",
    "        return [(4, y+2), (4, y+1)] + [(i+2, y) for i in range(3)]\n",
    "    # ..+....\n",
    "    # ..+....\n",
    "    # ..+....\n",
    "    # ..+....\n",
    "    elif idx == 3:\n",
    "        return [(2, y+i) for i in range(4)]\n",
    "    # ..++...\n",
    "    # ..++...\n",
    "    elif idx == 4:\n",
    "        return [(2+i, y+j) for i in range(2) for j in range(2)]\n",
    "    assert False\n",
    "\n",
    "def move_left(shape):\n",
    "    if any([_x[0] <= 0 for _x in shape]):\n",
    "        return shape\n",
    "    else:\n",
    "        return set([(x-1, y) for x, y in shape])\n",
    "\n",
    "def move_right(shape):\n",
    "    if any([_x[0] >= 6 for _x in shape]):\n",
    "        return shape\n",
    "    else:\n",
    "        return set([(x+1, y) for x, y in shape])\n",
    "\n",
    "def move_down(shape):\n",
    "    return set([(x, y-1) for x, y in shape])\n",
    "\n",
    "def move_up(shape):\n",
    "    return set([(x, y+1) for x, y in shape])\n",
    "\n",
    "\n",
    "def solution1(data, N=2022):\n",
    "    space = set([(x, 0) for x in range(7)])\n",
    "    top = 0\n",
    "    jet_idx = 0\n",
    "    for i in range(N):\n",
    "        s = set(get_shape(i, top+4))\n",
    "        #print(\"new shape:\", s)\n",
    "        while True:\n",
    "            jet = data[jet_idx]\n",
    "            jet_idx = (jet_idx + 1) % len(data)\n",
    "            if jet == \"<\":\n",
    "                s = move_left(s)\n",
    "                if s & space: # check for collision \n",
    "                    s = move_right(s) # undo\n",
    "            else:\n",
    "                s = move_right(s)\n",
    "                if s & space:\n",
    "                    s = move_left(s)\n",
    "            s = move_down(s)\n",
    "            if s & space:\n",
    "                space |= move_up(s)\n",
    "                top = max([_x[1] for _x in space])\n",
    "                break\n",
    "    print(\"Solution:\", top)\n",
    "    return top\n",
    "\n",
    "sol1 = solution1(test_data)\n",
    "assert sol1 == 3068\n",
    "print(\"test passed\")"
   ]
  },
  {
   "cell_type": "code",
   "execution_count": 3,
   "id": "f641437e-350d-4f31-897b-2a4a66802749",
   "metadata": {},
   "outputs": [
    {
     "name": "stdout",
     "output_type": "stream",
     "text": [
      "Solution: 3163\n",
      "test passed\n"
     ]
    }
   ],
   "source": [
    "with open(\"day17.txt\") as f:\n",
    "    inp_data = f.read()\n",
    "\n",
    "sol1 = solution1(inp_data)\n",
    "assert sol1 == 3163\n",
    "print(\"test passed\")"
   ]
  },
  {
   "cell_type": "markdown",
   "id": "ca740981-8b91-47d7-a039-6aca70963b56",
   "metadata": {},
   "source": [
    "## Part 2"
   ]
  },
  {
   "cell_type": "code",
   "execution_count": 4,
   "id": "7e7c4c3e-cace-41d8-bb49-c49602d9a2fe",
   "metadata": {},
   "outputs": [
    {
     "name": "stdout",
     "output_type": "stream",
     "text": [
      "Part 2\n",
      "added by pattern: 1514285711189\n",
      "Solution: 1514285714288\n",
      "test passed\n"
     ]
    }
   ],
   "source": [
    "print(\"Part 2\")\n",
    "\n",
    "def signature(R):\n",
    "    \"\"\"Create a signature (x, y) of upper 30 rows, with height reference to top rock\"\"\"\n",
    "    maxY = max([y for (x,y) in R])\n",
    "    return frozenset([(x, maxY - y) for (x,y) in R if maxY - y <= 30])\n",
    "\n",
    "\n",
    "def solution2(data):\n",
    "    N = 1000000000000\n",
    "\n",
    "    # dict of seen patterns\n",
    "    SEEN = {}\n",
    "    space = set([(x, 0) for x in range(7)])\n",
    "    top = 0  # keep track of highest rock part\n",
    "    i = 0   # nr of rocks\n",
    "    jet_idx = 0   # index of jet action\n",
    "    added = 0  # added height by repeating pattern\n",
    "    while i < N:\n",
    "        # emit rock\n",
    "        s = set(get_shape(i, top+4))\n",
    "\n",
    "        while True:\n",
    "            jet = data[jet_idx]\n",
    "            jet_idx = (jet_idx + 1) % len(data)\n",
    "            if jet == \"<\":\n",
    "                s = move_left(s)\n",
    "                if s & space: # check for collision \n",
    "                    s = move_right(s) # undo\n",
    "            else:\n",
    "                s = move_right(s)\n",
    "                if s & space:\n",
    "                    s = move_left(s)\n",
    "            s = move_down(s)\n",
    "            if s & space:\n",
    "                space |= move_up(s)\n",
    "                top = max([y for (x, y) in space])\n",
    "                \n",
    "                # key for pattern recognition: (jet index, type of rock, x-y-coordinates of occupied 30 upper rows)\n",
    "                key = (jet_idx, i%5, signature(space))\n",
    "\n",
    "                if key in SEEN and i >= 2022:\n",
    "                    # repeated pattern detected, get old nr. of rocks and old height\n",
    "                    (i_old, top_old) = SEEN[key]\n",
    "                    # height of pattern\n",
    "                    dy = top - top_old\n",
    "                    # number of rocks in pattern\n",
    "                    di = i - i_old\n",
    "\n",
    "                    # amount of repetitions of pattern to get just under limit N\n",
    "                    amt = (N-i) // di\n",
    "                    # added height by repeated patterns\n",
    "                    added += amt*dy\n",
    "                    # increase nr. of rock by repetition x nr. of rocks in pattern\n",
    "                    i += amt*di\n",
    "                    assert i <= N\n",
    "                    # clear seen dict\n",
    "                    SEEN = {}\n",
    "\n",
    "                SEEN[key] = (i, top)\n",
    "\n",
    "                break\n",
    "        i += 1\n",
    "    sol2 = top + added\n",
    "    print(\"added by pattern:\", added)\n",
    "    print(\"Solution:\", top + added)\n",
    "    return sol2\n",
    "\n",
    "sol2 = solution2(test_data)\n",
    "assert sol2 == 1514285714288\n",
    "print(\"test passed\")"
   ]
  },
  {
   "cell_type": "code",
   "execution_count": 5,
   "id": "d8fd5388-f0e3-438e-84d8-42e39f994d38",
   "metadata": {},
   "outputs": [
    {
     "name": "stdout",
     "output_type": "stream",
     "text": [
      "added by pattern: 1560932939229\n",
      "Solution: 1560932944615\n",
      "test passed\n"
     ]
    }
   ],
   "source": [
    "sol2 = solution2(inp_data)\n",
    "assert sol2 == 1560932944615\n",
    "print(\"test passed\")"
   ]
  },
  {
   "cell_type": "code",
   "execution_count": null,
   "id": "8ea05dee-c647-4d09-a9f6-7f3d9f8b2cc2",
   "metadata": {},
   "outputs": [],
   "source": []
  }
 ],
 "metadata": {
  "kernelspec": {
   "display_name": "Python 3 (ipykernel)",
   "language": "python",
   "name": "python3"
  },
  "language_info": {
   "codemirror_mode": {
    "name": "ipython",
    "version": 3
   },
   "file_extension": ".py",
   "mimetype": "text/x-python",
   "name": "python",
   "nbconvert_exporter": "python",
   "pygments_lexer": "ipython3",
   "version": "3.10.8"
  }
 },
 "nbformat": 4,
 "nbformat_minor": 5
}
