{
 "cells": [
  {
   "cell_type": "markdown",
   "id": "9672b17f-7a5e-47b5-ab50-6eb82e70f884",
   "metadata": {},
   "source": [
    "# Day 16\n",
    "\n",
    "https://adventofcode.com/2022/day/16\n",
    "\n",
    "Wasn't able to figure this one out on my own. So I followed (and understood) this solution by _hyper-neutrino_:\n",
    "\n",
    "https://www.youtube.com/watch?v=bLMj50cpOug\n",
    "\n",
    "https://github.com/hyper-neutrino/advent-of-code/blob/main/2022/day16p1.py\n",
    "\n",
    "\n",
    "## Relevant algorithms\n",
    "\n",
    "https://en.wikipedia.org/wiki/Depth-first_search\n",
    "\n",
    "https://en.wikipedia.org/wiki/Breadth-first_search\n",
    "\n",
    "https://en.wikipedia.org/wiki/Floyd%E2%80%93Warshall_algorithm\n",
    "\n",
    "## Part 1"
   ]
  },
  {
   "cell_type": "code",
   "execution_count": 1,
   "id": "254ce369-6aeb-4d63-911e-b2cfb6967475",
   "metadata": {},
   "outputs": [
    {
     "data": {
      "text/plain": [
       "'Valve AA has flow rate=0; tunnels lead to valves DD, II, BB\\nValve BB has flow rate=13; tunnels lead to valves CC, AA\\nValve CC has flow rate=2; tunnels lead to valves DD, BB\\nValve DD has flow rate=20; tunnels lead to valves CC, AA, EE\\nValve EE has flow rate=3; tunnels lead to valves FF, DD\\nValve FF has flow rate=0; tunnels lead to valves EE, GG\\nValve GG has flow rate=0; tunnels lead to valves FF, HH\\nValve HH has flow rate=22; tunnel leads to valve GG\\nValve II has flow rate=0; tunnels lead to valves AA, JJ\\nValve JJ has flow rate=21; tunnel leads to valve II'"
      ]
     },
     "execution_count": 1,
     "metadata": {},
     "output_type": "execute_result"
    }
   ],
   "source": [
    "test_data = \"\"\"\\\n",
    "Valve AA has flow rate=0; tunnels lead to valves DD, II, BB\n",
    "Valve BB has flow rate=13; tunnels lead to valves CC, AA\n",
    "Valve CC has flow rate=2; tunnels lead to valves DD, BB\n",
    "Valve DD has flow rate=20; tunnels lead to valves CC, AA, EE\n",
    "Valve EE has flow rate=3; tunnels lead to valves FF, DD\n",
    "Valve FF has flow rate=0; tunnels lead to valves EE, GG\n",
    "Valve GG has flow rate=0; tunnels lead to valves FF, HH\n",
    "Valve HH has flow rate=22; tunnel leads to valve GG\n",
    "Valve II has flow rate=0; tunnels lead to valves AA, JJ\n",
    "Valve JJ has flow rate=21; tunnel leads to valve II\"\"\"\n",
    "test_data"
   ]
  },
  {
   "cell_type": "code",
   "execution_count": 2,
   "id": "b4da5e6e-d0de-443e-b9a7-e7d57698e60d",
   "metadata": {},
   "outputs": [
    {
     "name": "stdout",
     "output_type": "stream",
     "text": [
      "flow_rate: {'AA': 0, 'BB': 13, 'CC': 2, 'DD': 20, 'EE': 3, 'FF': 0, 'GG': 0, 'HH': 22, 'II': 0, 'JJ': 21}\n",
      "targets {'AA': ['DD', 'II', 'BB'], 'BB': ['CC', 'AA'], 'CC': ['DD', 'BB'], 'DD': ['CC', 'AA', 'EE'], 'EE': ['FF', 'DD'], 'FF': ['EE', 'GG'], 'GG': ['FF', 'HH'], 'HH': ['GG'], 'II': ['AA', 'JJ'], 'JJ': ['II']}\n"
     ]
    }
   ],
   "source": [
    "# Parse input data\n",
    "from collections import deque\n",
    "\n",
    "def parse_data(data):\n",
    "    # flow rate of valves\n",
    "    flow_rate = {}\n",
    "    # targets from valve\n",
    "    targets = {}\n",
    "\n",
    "    for line in data.split(\"\\n\"):\n",
    "        line = line.strip()\n",
    "        valve = line.split()[1]\n",
    "        flow = int(line.split(\";\")[0].split(\"=\")[1])\n",
    "        target = line.split(\"to \")[1].split(\" \", 1)[1].split(\", \")\n",
    "        flow_rate[valve] = flow\n",
    "        targets[valve] = target\n",
    "    return flow_rate, targets\n",
    "\n",
    "flow_rate, targets = parse_data(test_data)\n",
    "print(\"flow_rate:\", flow_rate)\n",
    "print(\"targets\", targets)"
   ]
  },
  {
   "cell_type": "code",
   "execution_count": 3,
   "id": "553ef0b3-cc29-49c3-a868-424270b35100",
   "metadata": {},
   "outputs": [
    {
     "name": "stdout",
     "output_type": "stream",
     "text": [
      "valve AA\n",
      "\tCalculating distances\n",
      "valve BB\n",
      "\tadd BB with flow rate 13 to non empty list\n",
      "\tCalculating distances\n",
      "valve CC\n",
      "\tadd CC with flow rate 2 to non empty list\n",
      "\tCalculating distances\n",
      "valve DD\n",
      "\tadd DD with flow rate 20 to non empty list\n",
      "\tCalculating distances\n",
      "valve EE\n",
      "\tadd EE with flow rate 3 to non empty list\n",
      "\tCalculating distances\n",
      "valve FF\n",
      "\tskipping FF with flow rate 0\n",
      "valve GG\n",
      "\tskipping GG with flow rate 0\n",
      "valve HH\n",
      "\tadd HH with flow rate 22 to non empty list\n",
      "\tCalculating distances\n",
      "valve II\n",
      "\tskipping II with flow rate 0\n",
      "valve JJ\n",
      "\tadd JJ with flow rate 21 to non empty list\n",
      "\tCalculating distances\n",
      "\n",
      "Dists:\n",
      "{'AA': {'DD': 1, 'BB': 1, 'CC': 2, 'EE': 2, 'JJ': 2, 'HH': 5}, 'BB': {'CC': 1, 'DD': 2, 'EE': 3, 'JJ': 3, 'HH': 6}, 'CC': {'DD': 1, 'BB': 1, 'EE': 2, 'JJ': 4, 'HH': 5}, 'DD': {'CC': 1, 'EE': 1, 'BB': 2, 'JJ': 3, 'HH': 4}, 'EE': {'DD': 1, 'CC': 2, 'HH': 3, 'BB': 3, 'JJ': 4}, 'HH': {'EE': 3, 'DD': 4, 'CC': 5, 'BB': 6, 'JJ': 7}, 'JJ': {'DD': 3, 'BB': 3, 'CC': 4, 'EE': 4, 'HH': 7}}\n"
     ]
    }
   ],
   "source": [
    "def build_dist_map(flow_rate, targets, verbose=False):\n",
    "    # Calculate (shortest) distances from each valve to every other valve (with nonzero flow rate)\n",
    "    dists = {}\n",
    "    nonempty = []\n",
    "\n",
    "    for valve in flow_rate:\n",
    "        #verbose = True\n",
    "        if verbose: print(f\"valve {valve}\")\n",
    "\n",
    "        # skip empty if not start valve AA or flow rate = 0\n",
    "        if valve != \"AA\" and not flow_rate[valve]:\n",
    "            if verbose: print(f\"\\tskipping {valve} with flow rate {flow_rate[valve]}\")\n",
    "            continue\n",
    "\n",
    "        # list valves that have flow rate > 0\n",
    "        if valve != \"AA\":\n",
    "            if verbose: print(f\"\\tadd {valve} with flow rate {flow_rate[valve]} to non empty list\")\n",
    "            nonempty.append(valve)\n",
    "\n",
    "\n",
    "        dists[valve] = {valve: 0, \"AA\": 0}\n",
    "\n",
    "        # set of visited valves\n",
    "        visited = {valve}\n",
    "\n",
    "        # init queue with distance = 0 and position = current valve\n",
    "        queue = deque([(0, valve)]) # (distance, position)\n",
    "\n",
    "        if verbose: print(\"\\tCalculating distances\")\n",
    "\n",
    "        # breadth first search\n",
    "        while queue:\n",
    "            distance, position = queue.popleft()\n",
    "            #if verbose: print(f\"\\t\\tqueue item: {(distance, position)}, neighbors: {targets[position]}\")\n",
    "            for neighbor in targets[position]:\n",
    "                # skip if already visited (would not be shortest distance)\n",
    "                if neighbor in visited:\n",
    "                    continue\n",
    "                visited.add(neighbor)\n",
    "\n",
    "                # if flow rate > 0 add distance to map with distance so far + 1\n",
    "                if flow_rate[neighbor]:\n",
    "                    dists[valve][neighbor] = distance + 1\n",
    "                # add valve to queue\n",
    "                queue.append((distance + 1, neighbor))\n",
    "            #if verbose: print(f\"\\t\\tvisited: {visited}\")\n",
    "\n",
    "        del dists[valve][valve]\n",
    "        if valve != \"AA\":\n",
    "            del dists[valve][\"AA\"]\n",
    "        #if verbose: print(\"\\t\", dists)\n",
    "        \n",
    "    # turn list of nonempty lists into dict\n",
    "    indices = {}\n",
    "\n",
    "    for index, element in enumerate(nonempty):\n",
    "        indices[element] = index\n",
    "\n",
    "    return dists, indices\n",
    "\n",
    "dists, indices = build_dist_map(flow_rate, targets, verbose=True)\n",
    "print(\"\\nDists:\")\n",
    "print(dists)"
   ]
  },
  {
   "cell_type": "code",
   "execution_count": 4,
   "id": "d4d586f5-a1c5-45e3-8edd-71eff536a915",
   "metadata": {},
   "outputs": [
    {
     "name": "stdout",
     "output_type": "stream",
     "text": [
      "Solution: 1651\n",
      "test passed\n"
     ]
    }
   ],
   "source": [
    "def solution1(data, time=30, valve=\"AA\"):\n",
    "    flow_rate, targets = parse_data(data)\n",
    "    dists, indices = build_dist_map(flow_rate, targets)\n",
    "    \n",
    "    cache = {}\n",
    "    # (recursive) depth first search\n",
    "    # use bitmask to track which valves are already open\n",
    "    def dfs(time, valve, bitmask):\n",
    "        if (time, valve, bitmask) in cache:\n",
    "            return cache[(time, valve, bitmask)]\n",
    "\n",
    "        # maximum released water (pressure + time)\n",
    "        maxval = 0\n",
    "        for neighbor in dists[valve]:\n",
    "            # set bit at position of valve to 1\n",
    "            bit = 1 << indices[neighbor]        \n",
    "            # skip if already open\n",
    "            if bitmask & bit:\n",
    "                continue\n",
    "            # else open (uses 1 minute), use dist map to get time to get there\n",
    "            remtime = time - dists[valve][neighbor] - 1\n",
    "\n",
    "            # stop if no remaining time \n",
    "            if remtime <= 0:\n",
    "                continue\n",
    "            # recursively search all child nodes\n",
    "            maxval = max(maxval, dfs(remtime, neighbor, bitmask | bit) + flow_rate[neighbor] * remtime)\n",
    "\n",
    "        cache[(time, valve, bitmask)] = maxval\n",
    "        return maxval\n",
    "    \n",
    "    sol = dfs(time, valve, 0)\n",
    "    print(\"Solution:\", sol)\n",
    "    return sol\n",
    "\n",
    "assert solution1(test_data) == 1651\n",
    "print(\"test passed\")"
   ]
  },
  {
   "cell_type": "code",
   "execution_count": 5,
   "id": "f641437e-350d-4f31-897b-2a4a66802749",
   "metadata": {},
   "outputs": [
    {
     "name": "stdout",
     "output_type": "stream",
     "text": [
      "Solution: 2250\n",
      "test passed\n"
     ]
    }
   ],
   "source": [
    "with open(\"day16.txt\") as f:\n",
    "    inp_data = f.read()\n",
    "\n",
    "sol1 = solution1(inp_data)\n",
    "assert sol1 == 2250\n",
    "print(\"test passed\")"
   ]
  },
  {
   "cell_type": "markdown",
   "id": "ca740981-8b91-47d7-a039-6aca70963b56",
   "metadata": {},
   "source": [
    "## Part 2"
   ]
  },
  {
   "cell_type": "code",
   "execution_count": 6,
   "id": "7e7c4c3e-cace-41d8-bb49-c49602d9a2fe",
   "metadata": {},
   "outputs": [
    {
     "name": "stdout",
     "output_type": "stream",
     "text": [
      "Solution: 1707\n",
      "test passed\n"
     ]
    }
   ],
   "source": [
    "def solution2(data, time=26, valve=\"AA\"):\n",
    "    flow_rate, targets = parse_data(data)\n",
    "    dists, indices = build_dist_map(flow_rate, targets)\n",
    "    \n",
    "    cache = {}\n",
    "    # (recursive) depth first search\n",
    "    # use bitmask to track which valves are already open\n",
    "    def dfs(time, valve, bitmask):\n",
    "        if (time, valve, bitmask) in cache:\n",
    "            return cache[(time, valve, bitmask)]\n",
    "\n",
    "        # maximum released water (pressure + time)\n",
    "        maxval = 0\n",
    "        for neighbor in dists[valve]:\n",
    "            # set bit at position of valve to 1\n",
    "            bit = 1 << indices[neighbor]        \n",
    "            # skip if already open\n",
    "            if bitmask & bit:\n",
    "                continue\n",
    "            # else open (uses 1 minute), use dist map to get time to get there\n",
    "            remtime = time - dists[valve][neighbor] - 1\n",
    "\n",
    "            # stop if no remaining time \n",
    "            if remtime <= 0:\n",
    "                continue\n",
    "            # recursively search all child nodes\n",
    "            maxval = max(maxval, dfs(remtime, neighbor, bitmask | bit) + flow_rate[neighbor] * remtime)\n",
    "\n",
    "        cache[(time, valve, bitmask)] = maxval\n",
    "        return maxval\n",
    "    \n",
    "    # maximum number of valve states (0b1111111...)\n",
    "    b = (1 << len(indices)) - 1\n",
    "\n",
    "    sol = 0\n",
    "\n",
    "    for i in range((b + 1) // 2):\n",
    "        sol = max(sol, dfs(time, valve, i) + dfs(time, valve, b ^ i))\n",
    "\n",
    "    print(\"Solution:\", sol)\n",
    "    return sol\n",
    "\n",
    "\n",
    "sol2 = solution2(test_data)\n",
    "\n",
    "assert sol2 == 1707\n",
    "print(\"test passed\")"
   ]
  },
  {
   "cell_type": "code",
   "execution_count": 7,
   "id": "d8fd5388-f0e3-438e-84d8-42e39f994d38",
   "metadata": {},
   "outputs": [
    {
     "name": "stdout",
     "output_type": "stream",
     "text": [
      "Solution: 3015\n",
      "elapsed time: 40.82982277870178\n",
      "test passed\n"
     ]
    }
   ],
   "source": [
    "import time\n",
    "_t = time.time()\n",
    "sol2 = solution2(inp_data)\n",
    "print(\"elapsed time:\", time.time() - _t)\n",
    "assert sol2 == 3015\n",
    "print(\"test passed\")"
   ]
  },
  {
   "cell_type": "code",
   "execution_count": null,
   "id": "8ea05dee-c647-4d09-a9f6-7f3d9f8b2cc2",
   "metadata": {},
   "outputs": [],
   "source": []
  }
 ],
 "metadata": {
  "kernelspec": {
   "display_name": "Python 3 (ipykernel)",
   "language": "python",
   "name": "python3"
  },
  "language_info": {
   "codemirror_mode": {
    "name": "ipython",
    "version": 3
   },
   "file_extension": ".py",
   "mimetype": "text/x-python",
   "name": "python",
   "nbconvert_exporter": "python",
   "pygments_lexer": "ipython3",
   "version": "3.10.8"
  }
 },
 "nbformat": 4,
 "nbformat_minor": 5
}
