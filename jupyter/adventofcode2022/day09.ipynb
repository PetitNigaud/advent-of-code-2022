{
 "cells": [
  {
   "cell_type": "markdown",
   "id": "9672b17f-7a5e-47b5-ab50-6eb82e70f884",
   "metadata": {},
   "source": [
    "# Day 09\n",
    "\n",
    "https://adventofcode.com/2022/day/9\n",
    "\n",
    "## Part 1"
   ]
  },
  {
   "cell_type": "code",
   "execution_count": 1,
   "id": "86c87a78-4f20-4251-b3b6-c5360a73f9ca",
   "metadata": {},
   "outputs": [],
   "source": [
    "import numpy as np"
   ]
  },
  {
   "cell_type": "code",
   "execution_count": 2,
   "id": "254ce369-6aeb-4d63-911e-b2cfb6967475",
   "metadata": {},
   "outputs": [
    {
     "data": {
      "text/plain": [
       "'R 4\\nU 4\\nL 3\\nD 1\\nR 4\\nD 1\\nL 5\\nR 2'"
      ]
     },
     "execution_count": 2,
     "metadata": {},
     "output_type": "execute_result"
    }
   ],
   "source": [
    "test_result = 13\n",
    "test_data = \"\"\"\\\n",
    "R 4\n",
    "U 4\n",
    "L 3\n",
    "D 1\n",
    "R 4\n",
    "D 1\n",
    "L 5\n",
    "R 2\"\"\"\n",
    "test_data"
   ]
  },
  {
   "cell_type": "code",
   "execution_count": 3,
   "id": "6eaa127c-cc2f-4109-ab8d-e3429d6626d9",
   "metadata": {},
   "outputs": [
    {
     "data": {
      "text/plain": [
       "['R 4', 'U 4', 'L 3', 'D 1', 'R 4', 'D 1', 'L 5', 'R 2']"
      ]
     },
     "execution_count": 3,
     "metadata": {},
     "output_type": "execute_result"
    }
   ],
   "source": [
    "test_data.splitlines()"
   ]
  },
  {
   "cell_type": "code",
   "execution_count": 4,
   "id": "66b836de-6568-4e96-a42b-a57c8e9f6b39",
   "metadata": {},
   "outputs": [
    {
     "data": {
      "text/plain": [
       "[[0, 0],\n",
       " [1, 0],\n",
       " [2, 0],\n",
       " [3, 0],\n",
       " [4, 0],\n",
       " [4, 1],\n",
       " [4, 2],\n",
       " [4, 3],\n",
       " [4, 4],\n",
       " [3, 4],\n",
       " [2, 4],\n",
       " [1, 4],\n",
       " [1, 3],\n",
       " [2, 3],\n",
       " [3, 3],\n",
       " [4, 3],\n",
       " [5, 3],\n",
       " [5, 2],\n",
       " [4, 2],\n",
       " [3, 2],\n",
       " [2, 2],\n",
       " [1, 2],\n",
       " [0, 2],\n",
       " [1, 2],\n",
       " [2, 2]]"
      ]
     },
     "execution_count": 4,
     "metadata": {},
     "output_type": "execute_result"
    }
   ],
   "source": [
    "def head_history(data):\n",
    "    headpos = [0, 0]\n",
    "    head_hist = [headpos.copy()]\n",
    "\n",
    "    direction = [0, 0]\n",
    "    for line in data.splitlines():\n",
    "        words = line.split()\n",
    "        cmd = words[0]\n",
    "        dist = int(words[1])\n",
    "        if cmd == \"R\":\n",
    "            direction = [1, 0]\n",
    "        elif cmd == \"L\":\n",
    "            direction = [-1, 0]\n",
    "        if cmd == \"U\":\n",
    "            direction = [0, 1]\n",
    "        elif cmd == \"D\":\n",
    "            direction = [0, -1]\n",
    "        for i in range(dist):\n",
    "            headpos[0] += direction[0]\n",
    "            headpos[1] += direction[1]\n",
    "            head_hist.append(headpos.copy())\n",
    "    return head_hist\n",
    "head_history(test_data)"
   ]
  },
  {
   "cell_type": "code",
   "execution_count": 5,
   "id": "64d47b59-3427-4396-bd92-f658c6a63c6d",
   "metadata": {},
   "outputs": [
    {
     "name": "stdout",
     "output_type": "stream",
     "text": [
      "13\n",
      "test passed\n"
     ]
    }
   ],
   "source": [
    "def solution1(data):\n",
    "    head_hist = head_history(data)\n",
    "    \n",
    "    tailpos = [0, 0]\n",
    "    tail_hist = [tailpos.copy()]\n",
    "    for headpos in head_hist:\n",
    "        dx, dy = [c0-c1 for c0, c1 in zip (headpos, tailpos)]\n",
    "        #print(headpos, (dx, dy), tailpos)\n",
    "        if max(abs(dx), abs(dy)) <= 1:\n",
    "            continue        \n",
    "        if dx != 0:\n",
    "            tailpos[0] += dx//abs(dx)\n",
    "        if dy != 0:\n",
    "            tailpos[1] += dy//abs(dy)\n",
    "        tail_hist.append(tailpos.copy())\n",
    "\n",
    "    pos_visited = []\n",
    "    for pos in tail_hist:\n",
    "        if pos not in pos_visited:\n",
    "            pos_visited.append(pos)\n",
    "    sol = len(pos_visited)\n",
    "    print(sol)\n",
    "    return sol\n",
    "    \n",
    "assert solution1(test_data) == test_result\n",
    "\n",
    "print(\"test passed\")"
   ]
  },
  {
   "cell_type": "code",
   "execution_count": 6,
   "id": "f641437e-350d-4f31-897b-2a4a66802749",
   "metadata": {},
   "outputs": [
    {
     "name": "stdout",
     "output_type": "stream",
     "text": [
      "6023\n",
      "test passed\n"
     ]
    }
   ],
   "source": [
    "with open(\"day09.txt\") as f:\n",
    "    inp_data = f.read()\n",
    "sol1 = solution1(inp_data)\n",
    "\n",
    "assert sol1 == 6023\n",
    "print(\"test passed\")"
   ]
  },
  {
   "cell_type": "markdown",
   "id": "ca740981-8b91-47d7-a039-6aca70963b56",
   "metadata": {},
   "source": [
    "## Part 2"
   ]
  },
  {
   "cell_type": "code",
   "execution_count": 7,
   "id": "679bd3eb-fd0d-4241-8cf7-56d4a6f78316",
   "metadata": {},
   "outputs": [],
   "source": [
    "test_result = 36\n",
    "test_data = \"\"\"\\\n",
    "R 5\n",
    "U 8\n",
    "L 8\n",
    "D 3\n",
    "R 17\n",
    "D 10\n",
    "L 25\n",
    "U 20\"\"\""
   ]
  },
  {
   "cell_type": "code",
   "execution_count": 8,
   "id": "7e7c4c3e-cace-41d8-bb49-c49602d9a2fe",
   "metadata": {},
   "outputs": [
    {
     "name": "stdout",
     "output_type": "stream",
     "text": [
      "36\n",
      "test passed\n"
     ]
    }
   ],
   "source": [
    "def move_tail(h_pos, t_pos):\n",
    "    dx, dy = [c0-c1 for c0, c1 in zip (h_pos, t_pos)]\n",
    "    if max(abs(dx), abs(dy)) <= 1:\n",
    "        return t_pos        \n",
    "    if dx != 0:\n",
    "        t_pos[0] += dx//abs(dx)\n",
    "    if dy != 0:\n",
    "        t_pos[1] += dy//abs(dy)\n",
    "    return t_pos\n",
    "\n",
    "def solution2(data):\n",
    "    head_hist = head_history(data)\n",
    "\n",
    "    pos_visited = []\n",
    "    pos = [[0, 0]] * 9\n",
    "    for headpos in head_hist:\n",
    "        for i, tailpos in enumerate(pos):        \n",
    "            if i == 0:\n",
    "                _headpos = headpos.copy()\n",
    "            else:\n",
    "                _headpos = pos[i-1].copy()            \n",
    "            _pos = move_tail(_headpos, pos[i])\n",
    "            if pos[-1] not in pos_visited:\n",
    "                pos_visited.append(pos[-1])\n",
    "            pos[i] = _pos.copy()\n",
    "\n",
    "    sol = len(pos_visited)\n",
    "    print(sol)\n",
    "    return sol\n",
    "\n",
    "assert solution2(test_data) == test_result\n",
    "print(\"test passed\")"
   ]
  },
  {
   "cell_type": "code",
   "execution_count": 9,
   "id": "c9dc82bc-54f7-4530-a845-5372dc71b80f",
   "metadata": {},
   "outputs": [
    {
     "name": "stdout",
     "output_type": "stream",
     "text": [
      "2533\n",
      "test passed\n"
     ]
    }
   ],
   "source": [
    "sol2 = solution2(inp_data)\n",
    "assert sol2 == 2533\n",
    "print(\"test passed\")"
   ]
  },
  {
   "cell_type": "code",
   "execution_count": 10,
   "id": "4b0963d4-ee9b-4537-85a9-e3171e3b9d1d",
   "metadata": {},
   "outputs": [
    {
     "name": "stdout",
     "output_type": "stream",
     "text": [
      "2533\n",
      "2533\n",
      "2533\n",
      "2533\n",
      "2533\n",
      "2533\n",
      "2533\n",
      "2533\n",
      "3.11 s ± 323 ms per loop (mean ± std. dev. of 7 runs, 1 loop each)\n"
     ]
    }
   ],
   "source": [
    "%timeit solution2(inp_data)"
   ]
  },
  {
   "cell_type": "code",
   "execution_count": null,
   "id": "7959775d-6193-4020-94f4-9651bb951533",
   "metadata": {},
   "outputs": [],
   "source": []
  }
 ],
 "metadata": {
  "kernelspec": {
   "display_name": "Python 3 (ipykernel)",
   "language": "python",
   "name": "python3"
  },
  "language_info": {
   "codemirror_mode": {
    "name": "ipython",
    "version": 3
   },
   "file_extension": ".py",
   "mimetype": "text/x-python",
   "name": "python",
   "nbconvert_exporter": "python",
   "pygments_lexer": "ipython3",
   "version": "3.10.8"
  }
 },
 "nbformat": 4,
 "nbformat_minor": 5
}
