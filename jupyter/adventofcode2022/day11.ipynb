{
 "cells": [
  {
   "cell_type": "markdown",
   "id": "9672b17f-7a5e-47b5-ab50-6eb82e70f884",
   "metadata": {},
   "source": [
    "# Day 11\n",
    "\n",
    "https://adventofcode.com/2022/day/11\n",
    "\n",
    "## Part 1"
   ]
  },
  {
   "cell_type": "code",
   "execution_count": 1,
   "id": "254ce369-6aeb-4d63-911e-b2cfb6967475",
   "metadata": {},
   "outputs": [
    {
     "data": {
      "text/plain": [
       "'Monkey 0:\\n  Starting items: 79, 98\\n  Operation: new = old * 19\\n  Test: divisible by 23\\n    If true: throw to monkey 2\\n    If false: throw to monkey 3\\n\\nMonkey 1:\\n  Starting items: 54, 65, 75, 74\\n  Operation: new = old + 6\\n  Test: divisible by 19\\n    If true: throw to monkey 2\\n    If false: throw to monkey 0\\n\\nMonkey 2:\\n  Starting items: 79, 60, 97\\n  Operation: new = old * old\\n  Test: divisible by 13\\n    If true: throw to monkey 1\\n    If false: throw to monkey 3\\n\\nMonkey 3:\\n  Starting items: 74\\n  Operation: new = old + 3\\n  Test: divisible by 17\\n    If true: throw to monkey 0\\n    If false: throw to monkey 1'"
      ]
     },
     "execution_count": 1,
     "metadata": {},
     "output_type": "execute_result"
    }
   ],
   "source": [
    "test_result = 13\n",
    "test_data = \"\"\"\\\n",
    "Monkey 0:\n",
    "  Starting items: 79, 98\n",
    "  Operation: new = old * 19\n",
    "  Test: divisible by 23\n",
    "    If true: throw to monkey 2\n",
    "    If false: throw to monkey 3\n",
    "\n",
    "Monkey 1:\n",
    "  Starting items: 54, 65, 75, 74\n",
    "  Operation: new = old + 6\n",
    "  Test: divisible by 19\n",
    "    If true: throw to monkey 2\n",
    "    If false: throw to monkey 0\n",
    "\n",
    "Monkey 2:\n",
    "  Starting items: 79, 60, 97\n",
    "  Operation: new = old * old\n",
    "  Test: divisible by 13\n",
    "    If true: throw to monkey 1\n",
    "    If false: throw to monkey 3\n",
    "\n",
    "Monkey 3:\n",
    "  Starting items: 74\n",
    "  Operation: new = old + 3\n",
    "  Test: divisible by 17\n",
    "    If true: throw to monkey 0\n",
    "    If false: throw to monkey 1\"\"\"\n",
    "test_data"
   ]
  },
  {
   "cell_type": "code",
   "execution_count": 2,
   "id": "036cd5f9-858e-4f03-b651-fecd1a0a5f3d",
   "metadata": {},
   "outputs": [
    {
     "name": "stdout",
     "output_type": "stream",
     "text": [
      "Monkey 0\n",
      "\tStart Items: [79, 98]\n",
      "\tOperation: new = old * 19)\n",
      "\tTest Func: x % 23 == 0\n",
      "\tTargets: {True: 2, False: 3}\n",
      "Monkey 1\n",
      "\tStart Items: [54, 65, 75, 74]\n",
      "\tOperation: new = old + 6)\n",
      "\tTest Func: x % 19 == 0\n",
      "\tTargets: {True: 2, False: 0}\n",
      "Monkey 2\n",
      "\tStart Items: [79, 60, 97]\n",
      "\tOperation: new = old * old)\n",
      "\tTest Func: x % 13 == 0\n",
      "\tTargets: {True: 1, False: 3}\n",
      "Monkey 3\n",
      "\tStart Items: [74]\n",
      "\tOperation: new = old + 3)\n",
      "\tTest Func: x % 17 == 0\n",
      "\tTargets: {True: 0, False: 1}\n"
     ]
    },
    {
     "data": {
      "text/plain": [
       "{0: Monkey(items=[79, 98], operation=<function func_maker.<locals>.<lambda> at 0x7f26c5da95a0>, test_divisor=23, targets={True: 2, False: 3}, items_count=0),\n",
       " 1: Monkey(items=[54, 65, 75, 74], operation=<function func_maker.<locals>.<lambda> at 0x7f26c5da9630>, test_divisor=19, targets={True: 2, False: 0}, items_count=0),\n",
       " 2: Monkey(items=[79, 60, 97], operation=<function func_maker.<locals>.<lambda> at 0x7f26c5da96c0>, test_divisor=13, targets={True: 1, False: 3}, items_count=0),\n",
       " 3: Monkey(items=[74], operation=<function func_maker.<locals>.<lambda> at 0x7f26c5da9750>, test_divisor=17, targets={True: 0, False: 1}, items_count=0)}"
      ]
     },
     "execution_count": 2,
     "metadata": {},
     "output_type": "execute_result"
    }
   ],
   "source": [
    "from dataclasses import dataclass\n",
    "from typing import List, Callable\n",
    "\n",
    "@dataclass\n",
    "class Monkey:\n",
    "    items: List[int]\n",
    "    operation: Callable[[int], int]\n",
    "    test_divisor: int\n",
    "    targets: dict\n",
    "    items_count: int = 0\n",
    "\n",
    "def func_maker(operator: str, parameter: str):\n",
    "    if operator == \"*\":\n",
    "        if parameter == \"old\":\n",
    "            return lambda x: x * x\n",
    "        else:\n",
    "            parameter = int(parameter)\n",
    "            return lambda x: x * parameter\n",
    "    elif operator == \"+\":\n",
    "        parameter = int(parameter)\n",
    "        return lambda x: x + parameter\n",
    "    raise ValueError(f\"Unknown operator {operator}\")\n",
    "\n",
    "def import_data(data: str, verbose=False):\n",
    "    monkey_data = data.split(\"\\n\\n\")\n",
    "    monkeys = {}\n",
    "    for i, monkey in enumerate(monkey_data):\n",
    "        if verbose:\n",
    "            print(f\"Monkey {i}\")    \n",
    "        lines = monkey.split(\"\\n\")\n",
    "\n",
    "        # start items (Starting items: 79, 98)\n",
    "        line = lines[1].split(\":\")\n",
    "        start_items = [int(_x) for _x in line[1].split(\",\")]\n",
    "        if verbose:\n",
    "            print(f\"\\tStart Items: {start_items}\")\n",
    "\n",
    "        # Operation: new = old * 19\n",
    "        line = lines[2].split(\" \")    \n",
    "        parameter = line[-1]\n",
    "        operator = line[-2]\n",
    "        operation = func_maker(operator, parameter)\n",
    "        if verbose:\n",
    "            print(f\"\\tOperation: new = old {operator} {parameter})\")\n",
    "\n",
    "        # test func (Test: divisible by 23)\n",
    "        line = lines[3].split(\" \")\n",
    "        test_divisor = int(line[-1])\n",
    "        if verbose:\n",
    "            print(f\"\\tTest Func: x % {test_divisor} == 0\")\n",
    "\n",
    "        # Target according to test result\n",
    "        # If true: throw to monkey 0\n",
    "        # If false: throw to monkey 1\n",
    "        targets = {}\n",
    "        for idx, key in zip([4, 5], [True, False]):\n",
    "            line = lines[idx].split(\" \")\n",
    "            targets[key] = int(line[-1])\n",
    "        if verbose:\n",
    "            print(f\"\\tTargets: {targets}\")\n",
    "\n",
    "        #monkeys[i] = dict(\n",
    "        #    items_start = start_items,\n",
    "        #    operation = operation,         \n",
    "        #    test_func = test_func,\n",
    "        #    target = target, \n",
    "        #    items_count = 0\n",
    "        #)\n",
    "        monkeys[i] = Monkey(\n",
    "            items=start_items, \n",
    "            operation=operation, \n",
    "            test_divisor=test_divisor, \n",
    "            targets=targets\n",
    "        )\n",
    "    return monkeys\n",
    "\n",
    "import_data(test_data, True)"
   ]
  },
  {
   "cell_type": "code",
   "execution_count": 3,
   "id": "6b867fea-8af0-4983-a945-be3599e714d5",
   "metadata": {},
   "outputs": [
    {
     "name": "stdout",
     "output_type": "stream",
     "text": [
      "[7, 95, 101, 105]\n",
      "10605\n",
      "test passed\n"
     ]
    }
   ],
   "source": [
    "from math import lcm\n",
    "\n",
    "def simulate_round(monkeys: dict, part=1, verbose=False):\n",
    "    # the trick in part 2 is to reduce the worry level to the remainder \n",
    "    # to the least common multiplier of all test deviders...\n",
    "    # otherwise it takes literally forever to compute :(\n",
    "    # https://github.com/ephemient/aoc2022/blob/main/py/aoc2022/day11.py\n",
    "    test_divs = (_m.test_divisor for _m in monkeys.values())\n",
    "    base = lcm(*test_divs)\n",
    "    \n",
    "    for i, monkey_curr in monkeys.items():\n",
    "        if verbose:\n",
    "            print(f\"\\nCurrent Monkey: {i}\")\n",
    "        operation = monkey_curr.operation\n",
    "        test_devisor = monkey_curr.test_divisor\n",
    "        target = monkey_curr.targets\n",
    "        for worry in monkey_curr.items:\n",
    "            monkey_curr.items_count += 1\n",
    "            if verbose:\n",
    "                print(f\"\\tStart Item: {worry}\")\n",
    "            worry = operation(worry)\n",
    "            if part == 1:\n",
    "                worry //= 3\n",
    "            else:\n",
    "                worry = worry % base\n",
    "            if verbose:\n",
    "                print(f\"\\tAfter Inspection: {worry}\")            \n",
    "            test_result = worry % test_devisor == 0\n",
    "            if verbose:\n",
    "                print(f\"\\tTest Result: {test_result}\")\n",
    "            monkey_target = target[test_result]\n",
    "            if verbose:\n",
    "                print(f\"\\tThrowing to Monkey: {monkey_target}\")\n",
    "            monkeys[monkey_target].items.append(worry)\n",
    "        monkey_curr.items = []\n",
    "    \n",
    "    return monkeys\n",
    "\n",
    "def solution1(data, rounds=20, verbose=False):\n",
    "    monkeys = import_data(data)\n",
    "\n",
    "    for _round in range(rounds):\n",
    "        monkeys = simulate_round(monkeys)\n",
    "        if verbose:\n",
    "            print(f\"Round {_round+1}\")\n",
    "            for i, monkey_curr in monkeys.items():\n",
    "                print(f\"  Monkey {i}:\")\n",
    "                print(f\"\\tholds items: {monkey_curr['items_start']}\")\n",
    "                print(f\"\\thandled items: {monkey_curr['items_count']}\")\n",
    "    items_handled = [_m.items_count for _m in monkeys.values()]\n",
    "    items_handled.sort()\n",
    "    print(items_handled)\n",
    "    sol = items_handled[-1] * items_handled[-2]\n",
    "    print(sol)\n",
    "    return sol\n",
    "assert solution1(test_data) == 10605\n",
    "print(\"test passed\")"
   ]
  },
  {
   "cell_type": "code",
   "execution_count": 4,
   "id": "f641437e-350d-4f31-897b-2a4a66802749",
   "metadata": {},
   "outputs": [
    {
     "name": "stdout",
     "output_type": "stream",
     "text": [
      "[9, 34, 70, 167, 295, 311, 312, 320]\n",
      "99840\n",
      "test passed\n"
     ]
    }
   ],
   "source": [
    "with open(\"day11.txt\") as f:\n",
    "    inp_data = f.read()\n",
    "\n",
    "assert solution1(inp_data) == 99840\n",
    "print(\"test passed\")"
   ]
  },
  {
   "cell_type": "markdown",
   "id": "ca740981-8b91-47d7-a039-6aca70963b56",
   "metadata": {},
   "source": [
    "## Part 2"
   ]
  },
  {
   "cell_type": "code",
   "execution_count": 5,
   "id": "e8a4d8d8-c348-447c-8234-b87a0c83368f",
   "metadata": {},
   "outputs": [
    {
     "name": "stdout",
     "output_type": "stream",
     "text": [
      "Round 1\n",
      "Monkey 0: 2\n",
      "Monkey 1: 4\n",
      "Monkey 2: 3\n",
      "Monkey 3: 6\n",
      "Round 20\n",
      "Monkey 0: 99\n",
      "Monkey 1: 97\n",
      "Monkey 2: 8\n",
      "Monkey 3: 103\n",
      "Round 1000\n",
      "Monkey 0: 5204\n",
      "Monkey 1: 4792\n",
      "Monkey 2: 199\n",
      "Monkey 3: 5192\n",
      "Round 2000\n",
      "Monkey 0: 10419\n",
      "Monkey 1: 9577\n",
      "Monkey 2: 392\n",
      "Monkey 3: 10391\n",
      "Round 3000\n",
      "Monkey 0: 15638\n",
      "Monkey 1: 14358\n",
      "Monkey 2: 587\n",
      "Monkey 3: 15593\n",
      "Round 4000\n",
      "Monkey 0: 20858\n",
      "Monkey 1: 19138\n",
      "Monkey 2: 780\n",
      "Monkey 3: 20797\n",
      "Round 5000\n",
      "Monkey 0: 26075\n",
      "Monkey 1: 23921\n",
      "Monkey 2: 974\n",
      "Monkey 3: 26000\n",
      "Round 6000\n",
      "Monkey 0: 31294\n",
      "Monkey 1: 28702\n",
      "Monkey 2: 1165\n",
      "Monkey 3: 31204\n",
      "Round 7000\n",
      "Monkey 0: 36508\n",
      "Monkey 1: 33488\n",
      "Monkey 2: 1360\n",
      "Monkey 3: 36400\n",
      "Round 9000\n",
      "Monkey 0: 46945\n",
      "Monkey 1: 43051\n",
      "Monkey 2: 1746\n",
      "Monkey 3: 46807\n",
      "Round 10000\n",
      "Monkey 0: 52166\n",
      "Monkey 1: 47830\n",
      "Monkey 2: 1938\n",
      "Monkey 3: 52013\n",
      "[19332, 478243, 520194, 521753]\n",
      "271412780082\n"
     ]
    }
   ],
   "source": [
    "monkeys = import_data(test_data)\n",
    "rounds = 100000\n",
    "verbose = True\n",
    "for _round in range(rounds):\n",
    "    monkeys = simulate_round(monkeys, part=2)\n",
    "    if verbose and (_round + 1) in [1, 20, 1000, 2000, 3000, 4000, 5000, 6000, 7000, 9000, 10000]:\n",
    "        print(f\"Round {_round+1}\")\n",
    "        for i, monkey_curr in monkeys.items():\n",
    "            print(f\"Monkey {i}: {monkey_curr.items_count}\")\n",
    "items_handled = [_m.items_count for _m in monkeys.values()]\n",
    "items_handled.sort()\n",
    "print(items_handled)\n",
    "sol = items_handled[-1] * items_handled[-2]\n",
    "print(sol)"
   ]
  },
  {
   "cell_type": "code",
   "execution_count": 6,
   "id": "7e7c4c3e-cace-41d8-bb49-c49602d9a2fe",
   "metadata": {},
   "outputs": [
    {
     "name": "stdout",
     "output_type": "stream",
     "text": [
      "[1938, 47830, 52013, 52166]\n",
      "2713310158\n",
      "test passed\n"
     ]
    }
   ],
   "source": [
    "def solution2(data, rounds=10000, verbose=False):\n",
    "    monkeys = import_data(data)\n",
    "    for _round in range(rounds):\n",
    "        monkeys = simulate_round(monkeys, part=2)\n",
    "        if verbose:\n",
    "            print(f\"Round {_round+1}\")\n",
    "            for i, monkey_curr in monkeys.items():\n",
    "                print(f\"  Monkey {i}:\")\n",
    "                print(f\"\\tholds items: {monkey_curr['items_start']}\")\n",
    "                print(f\"\\thandled items: {monkey_curr['items_count']}\")\n",
    "    items_handled = [_m.items_count for _m in monkeys.values()]\n",
    "    items_handled.sort()\n",
    "    print(items_handled)\n",
    "    sol = items_handled[-1] * items_handled[-2]\n",
    "    print(sol)\n",
    "    return sol\n",
    "    \n",
    "\n",
    "assert solution2(test_data) == 2713310158\n",
    "print(\"test passed\")"
   ]
  },
  {
   "cell_type": "code",
   "execution_count": 7,
   "id": "c9dc82bc-54f7-4530-a845-5372dc71b80f",
   "metadata": {},
   "outputs": [
    {
     "name": "stdout",
     "output_type": "stream",
     "text": [
      "[21064, 26874, 48933, 60049, 125646, 128049, 142623, 145019]\n",
      "20683044837\n",
      "test passed\n"
     ]
    }
   ],
   "source": [
    "sol2 = solution2(inp_data)\n",
    "assert sol2 == 20683044837\n",
    "print(\"test passed\")"
   ]
  },
  {
   "cell_type": "code",
   "execution_count": null,
   "id": "7959775d-6193-4020-94f4-9651bb951533",
   "metadata": {},
   "outputs": [],
   "source": []
  }
 ],
 "metadata": {
  "kernelspec": {
   "display_name": "Python 3 (ipykernel)",
   "language": "python",
   "name": "python3"
  },
  "language_info": {
   "codemirror_mode": {
    "name": "ipython",
    "version": 3
   },
   "file_extension": ".py",
   "mimetype": "text/x-python",
   "name": "python",
   "nbconvert_exporter": "python",
   "pygments_lexer": "ipython3",
   "version": "3.10.8"
  }
 },
 "nbformat": 4,
 "nbformat_minor": 5
}
